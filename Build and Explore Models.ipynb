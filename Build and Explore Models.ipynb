{
 "cells": [
  {
   "cell_type": "markdown",
   "metadata": {},
   "source": [
    "# Build and Explore Models"
   ]
  },
  {
   "cell_type": "markdown",
   "metadata": {},
   "source": [
    "## Carga de librerías requeridas"
   ]
  },
  {
   "cell_type": "code",
   "execution_count": 87,
   "metadata": {},
   "outputs": [],
   "source": [
    "#imports\n",
    "import numpy as np\n",
    "import pandas as pd\n",
    "import scipy as sc\n",
    "import matplotlib.pyplot as plt \n",
    "import seaborn as sns \n",
    "\n",
    "#pre-processing\n",
    "from sklearn import preprocessing\n",
    "from sklearn.preprocessing import OrdinalEncoder\n",
    "\n",
    "#feature selection\n",
    "from sklearn.svm import SVC\n",
    "from sklearn.model_selection import StratifiedKFold\n",
    "from sklearn.feature_selection import RFECV\n",
    "\n",
    "#model metrics \n",
    "#from sklearn.metrics import mean_squared_error\n",
    "#from sklearn.metrics import r2_score\n",
    "from sklearn.model_selection import cross_val_score\n",
    "\n",
    "#cross validation \n",
    "from sklearn.model_selection import train_test_split\n",
    "\n",
    "import warnings\n",
    "warnings.simplefilter(action='ignore', category=FutureWarning)"
   ]
  },
  {
   "cell_type": "markdown",
   "metadata": {},
   "source": [
    "## Cargar datos\n",
    "Los datasets fueron almacenados en pickles en el ejercicio anterior"
   ]
  },
  {
   "cell_type": "code",
   "execution_count": 2,
   "metadata": {},
   "outputs": [
    {
     "name": "stdout",
     "output_type": "stream",
     "text": [
      "<class 'pandas.core.frame.DataFrame'>\n",
      "RangeIndex: 30000 entries, 0 to 29999\n",
      "Data columns (total 27 columns):\n",
      "LIMIT_BAL          30000 non-null int64\n",
      "SEX                30000 non-null category\n",
      "EDUCATION          30000 non-null category\n",
      "MARRIAGE           30000 non-null category\n",
      "AGE                30000 non-null int64\n",
      "PAY_0              30000 non-null category\n",
      "PAY_2              30000 non-null category\n",
      "PAY_3              30000 non-null category\n",
      "PAY_4              30000 non-null category\n",
      "PAY_5              30000 non-null category\n",
      "PAY_6              30000 non-null category\n",
      "BILL_AMT1          30000 non-null int64\n",
      "BILL_AMT2          30000 non-null int64\n",
      "BILL_AMT3          30000 non-null int64\n",
      "BILL_AMT4          30000 non-null int64\n",
      "BILL_AMT5          30000 non-null int64\n",
      "BILL_AMT6          30000 non-null int64\n",
      "PAY_AMT1           30000 non-null int64\n",
      "PAY_AMT2           30000 non-null int64\n",
      "PAY_AMT3           30000 non-null int64\n",
      "PAY_AMT4           30000 non-null int64\n",
      "PAY_AMT5           30000 non-null int64\n",
      "PAY_AMT6           30000 non-null int64\n",
      "DEFAULT_PAYMENT    30000 non-null category\n",
      "LIMIT_RANGE        30000 non-null category\n",
      "AGE_RANGE          30000 non-null category\n",
      "DEFAULT_NUMERIC    30000 non-null int32\n",
      "dtypes: category(12), int32(1), int64(14)\n",
      "memory usage: 3.7 MB\n"
     ]
    }
   ],
   "source": [
    "dsCredit01 = pd.read_pickle('dsCredit01.pickle')\n",
    "dsCredit02 = pd.read_pickle('dsCredit02.pickle')\n",
    "dsCredit01.info()"
   ]
  },
  {
   "cell_type": "markdown",
   "metadata": {},
   "source": [
    "## Más pre-processing\n",
    "En el ejercicio anterior se procesó la mayoría de los datos, pero algunas features no fueron pre-procesadas para facilitar la presentación del EDA. Ahora, antes de crear los modelos y hace el feature selection, se debe proceder con el procesamiento pendiente."
   ]
  },
  {
   "cell_type": "markdown",
   "metadata": {},
   "source": [
    "### Estandarización de BILL_AMTN y PAY_AMTN\n"
   ]
  },
  {
   "cell_type": "code",
   "execution_count": 3,
   "metadata": {},
   "outputs": [
    {
     "name": "stdout",
     "output_type": "stream",
     "text": [
      "<class 'pandas.core.frame.DataFrame'>\n",
      "RangeIndex: 30000 entries, 0 to 29999\n",
      "Data columns (total 12 columns):\n",
      "BILL_AMT1    30000 non-null float64\n",
      "BILL_AMT2    30000 non-null float64\n",
      "BILL_AMT3    30000 non-null float64\n",
      "BILL_AMT4    30000 non-null float64\n",
      "BILL_AMT5    30000 non-null float64\n",
      "BILL_AMT6    30000 non-null float64\n",
      "PAY_AMT1     30000 non-null float64\n",
      "PAY_AMT2     30000 non-null float64\n",
      "PAY_AMT3     30000 non-null float64\n",
      "PAY_AMT4     30000 non-null float64\n",
      "PAY_AMT5     30000 non-null float64\n",
      "PAY_AMT6     30000 non-null float64\n",
      "dtypes: float64(12)\n",
      "memory usage: 2.7 MB\n"
     ]
    },
    {
     "data": {
      "text/html": [
       "<div>\n",
       "<style scoped>\n",
       "    .dataframe tbody tr th:only-of-type {\n",
       "        vertical-align: middle;\n",
       "    }\n",
       "\n",
       "    .dataframe tbody tr th {\n",
       "        vertical-align: top;\n",
       "    }\n",
       "\n",
       "    .dataframe thead th {\n",
       "        text-align: right;\n",
       "    }\n",
       "</style>\n",
       "<table border=\"1\" class=\"dataframe\">\n",
       "  <thead>\n",
       "    <tr style=\"text-align: right;\">\n",
       "      <th></th>\n",
       "      <th>BILL_AMT1</th>\n",
       "      <th>BILL_AMT2</th>\n",
       "      <th>BILL_AMT3</th>\n",
       "      <th>BILL_AMT4</th>\n",
       "      <th>BILL_AMT5</th>\n",
       "      <th>BILL_AMT6</th>\n",
       "      <th>PAY_AMT1</th>\n",
       "      <th>PAY_AMT2</th>\n",
       "      <th>PAY_AMT3</th>\n",
       "      <th>PAY_AMT4</th>\n",
       "      <th>PAY_AMT5</th>\n",
       "      <th>PAY_AMT6</th>\n",
       "    </tr>\n",
       "  </thead>\n",
       "  <tbody>\n",
       "    <tr>\n",
       "      <td>0</td>\n",
       "      <td>-0.642501</td>\n",
       "      <td>-0.647399</td>\n",
       "      <td>-0.667993</td>\n",
       "      <td>-0.672497</td>\n",
       "      <td>-0.663059</td>\n",
       "      <td>-0.652724</td>\n",
       "      <td>-0.341942</td>\n",
       "      <td>-0.227086</td>\n",
       "      <td>-0.296801</td>\n",
       "      <td>-0.308063</td>\n",
       "      <td>-0.314136</td>\n",
       "      <td>-0.293382</td>\n",
       "    </tr>\n",
       "    <tr>\n",
       "      <td>1</td>\n",
       "      <td>-0.659219</td>\n",
       "      <td>-0.666747</td>\n",
       "      <td>-0.639254</td>\n",
       "      <td>-0.621636</td>\n",
       "      <td>-0.606229</td>\n",
       "      <td>-0.597966</td>\n",
       "      <td>-0.341942</td>\n",
       "      <td>-0.213588</td>\n",
       "      <td>-0.240005</td>\n",
       "      <td>-0.244230</td>\n",
       "      <td>-0.314136</td>\n",
       "      <td>-0.180878</td>\n",
       "    </tr>\n",
       "    <tr>\n",
       "      <td>2</td>\n",
       "      <td>-0.298560</td>\n",
       "      <td>-0.493899</td>\n",
       "      <td>-0.482408</td>\n",
       "      <td>-0.449730</td>\n",
       "      <td>-0.417188</td>\n",
       "      <td>-0.391630</td>\n",
       "      <td>-0.250292</td>\n",
       "      <td>-0.191887</td>\n",
       "      <td>-0.240005</td>\n",
       "      <td>-0.244230</td>\n",
       "      <td>-0.248683</td>\n",
       "      <td>-0.012122</td>\n",
       "    </tr>\n",
       "    <tr>\n",
       "      <td>3</td>\n",
       "      <td>-0.057491</td>\n",
       "      <td>-0.013293</td>\n",
       "      <td>0.032846</td>\n",
       "      <td>-0.232373</td>\n",
       "      <td>-0.186729</td>\n",
       "      <td>-0.156579</td>\n",
       "      <td>-0.221191</td>\n",
       "      <td>-0.169361</td>\n",
       "      <td>-0.228645</td>\n",
       "      <td>-0.237846</td>\n",
       "      <td>-0.244166</td>\n",
       "      <td>-0.237130</td>\n",
       "    </tr>\n",
       "    <tr>\n",
       "      <td>4</td>\n",
       "      <td>-0.578618</td>\n",
       "      <td>-0.611318</td>\n",
       "      <td>-0.161189</td>\n",
       "      <td>-0.346997</td>\n",
       "      <td>-0.348137</td>\n",
       "      <td>-0.331482</td>\n",
       "      <td>-0.221191</td>\n",
       "      <td>1.335034</td>\n",
       "      <td>0.271165</td>\n",
       "      <td>0.266434</td>\n",
       "      <td>-0.269039</td>\n",
       "      <td>-0.255187</td>\n",
       "    </tr>\n",
       "    <tr>\n",
       "      <td>5</td>\n",
       "      <td>0.178947</td>\n",
       "      <td>0.110856</td>\n",
       "      <td>0.152777</td>\n",
       "      <td>-0.371029</td>\n",
       "      <td>-0.340357</td>\n",
       "      <td>-0.316487</td>\n",
       "      <td>-0.191003</td>\n",
       "      <td>-0.178215</td>\n",
       "      <td>-0.259486</td>\n",
       "      <td>-0.244230</td>\n",
       "      <td>-0.248683</td>\n",
       "      <td>-0.248381</td>\n",
       "    </tr>\n",
       "    <tr>\n",
       "      <td>6</td>\n",
       "      <td>4.301531</td>\n",
       "      <td>5.098086</td>\n",
       "      <td>5.739063</td>\n",
       "      <td>7.762727</td>\n",
       "      <td>7.281574</td>\n",
       "      <td>7.305617</td>\n",
       "      <td>2.978712</td>\n",
       "      <td>1.479085</td>\n",
       "      <td>1.861472</td>\n",
       "      <td>0.983852</td>\n",
       "      <td>0.585848</td>\n",
       "      <td>0.481207</td>\n",
       "    </tr>\n",
       "    <tr>\n",
       "      <td>7</td>\n",
       "      <td>-0.534359</td>\n",
       "      <td>-0.685644</td>\n",
       "      <td>-0.669262</td>\n",
       "      <td>-0.669062</td>\n",
       "      <td>-0.665674</td>\n",
       "      <td>-0.643203</td>\n",
       "      <td>-0.318999</td>\n",
       "      <td>-0.230905</td>\n",
       "      <td>-0.296801</td>\n",
       "      <td>-0.270976</td>\n",
       "      <td>-0.203716</td>\n",
       "      <td>-0.206642</td>\n",
       "    </tr>\n",
       "    <tr>\n",
       "      <td>8</td>\n",
       "      <td>-0.542385</td>\n",
       "      <td>-0.492930</td>\n",
       "      <td>-0.503332</td>\n",
       "      <td>-0.482684</td>\n",
       "      <td>-0.469082</td>\n",
       "      <td>-0.590276</td>\n",
       "      <td>-0.140952</td>\n",
       "      <td>-0.256990</td>\n",
       "      <td>-0.272265</td>\n",
       "      <td>-0.244230</td>\n",
       "      <td>-0.248683</td>\n",
       "      <td>-0.237130</td>\n",
       "    </tr>\n",
       "    <tr>\n",
       "      <td>9</td>\n",
       "      <td>-0.695642</td>\n",
       "      <td>-0.690983</td>\n",
       "      <td>-0.677929</td>\n",
       "      <td>-0.672497</td>\n",
       "      <td>-0.449114</td>\n",
       "      <td>-0.419118</td>\n",
       "      <td>-0.341942</td>\n",
       "      <td>-0.256990</td>\n",
       "      <td>-0.296801</td>\n",
       "      <td>0.522212</td>\n",
       "      <td>-0.240697</td>\n",
       "      <td>-0.293382</td>\n",
       "    </tr>\n",
       "  </tbody>\n",
       "</table>\n",
       "</div>"
      ],
      "text/plain": [
       "   BILL_AMT1  BILL_AMT2  BILL_AMT3  BILL_AMT4  BILL_AMT5  BILL_AMT6  PAY_AMT1  \\\n",
       "0  -0.642501  -0.647399  -0.667993  -0.672497  -0.663059  -0.652724 -0.341942   \n",
       "1  -0.659219  -0.666747  -0.639254  -0.621636  -0.606229  -0.597966 -0.341942   \n",
       "2  -0.298560  -0.493899  -0.482408  -0.449730  -0.417188  -0.391630 -0.250292   \n",
       "3  -0.057491  -0.013293   0.032846  -0.232373  -0.186729  -0.156579 -0.221191   \n",
       "4  -0.578618  -0.611318  -0.161189  -0.346997  -0.348137  -0.331482 -0.221191   \n",
       "5   0.178947   0.110856   0.152777  -0.371029  -0.340357  -0.316487 -0.191003   \n",
       "6   4.301531   5.098086   5.739063   7.762727   7.281574   7.305617  2.978712   \n",
       "7  -0.534359  -0.685644  -0.669262  -0.669062  -0.665674  -0.643203 -0.318999   \n",
       "8  -0.542385  -0.492930  -0.503332  -0.482684  -0.469082  -0.590276 -0.140952   \n",
       "9  -0.695642  -0.690983  -0.677929  -0.672497  -0.449114  -0.419118 -0.341942   \n",
       "\n",
       "   PAY_AMT2  PAY_AMT3  PAY_AMT4  PAY_AMT5  PAY_AMT6  \n",
       "0 -0.227086 -0.296801 -0.308063 -0.314136 -0.293382  \n",
       "1 -0.213588 -0.240005 -0.244230 -0.314136 -0.180878  \n",
       "2 -0.191887 -0.240005 -0.244230 -0.248683 -0.012122  \n",
       "3 -0.169361 -0.228645 -0.237846 -0.244166 -0.237130  \n",
       "4  1.335034  0.271165  0.266434 -0.269039 -0.255187  \n",
       "5 -0.178215 -0.259486 -0.244230 -0.248683 -0.248381  \n",
       "6  1.479085  1.861472  0.983852  0.585848  0.481207  \n",
       "7 -0.230905 -0.296801 -0.270976 -0.203716 -0.206642  \n",
       "8 -0.256990 -0.272265 -0.244230 -0.248683 -0.237130  \n",
       "9 -0.256990 -0.296801  0.522212 -0.240697 -0.293382  "
      ]
     },
     "execution_count": 3,
     "metadata": {},
     "output_type": "execute_result"
    }
   ],
   "source": [
    "dsBillAmt_scaled = dsCredit01[['BILL_AMT1','BILL_AMT2','BILL_AMT3','BILL_AMT4','BILL_AMT5','BILL_AMT6','PAY_AMT1','PAY_AMT2','PAY_AMT3','PAY_AMT4','PAY_AMT5','PAY_AMT6']].copy()\n",
    "dsBillAmt_scaled = pd.DataFrame(data=preprocessing.scale(dsBillAmt_scaled), columns=('BILL_AMT1','BILL_AMT2','BILL_AMT3','BILL_AMT4','BILL_AMT5','BILL_AMT6','PAY_AMT1','PAY_AMT2','PAY_AMT3','PAY_AMT4','PAY_AMT5','PAY_AMT6'))\n",
    "dsBillAmt_scaled.info()\n",
    "dsBillAmt_scaled.head(10)"
   ]
  },
  {
   "cell_type": "markdown",
   "metadata": {},
   "source": [
    "### Encoding categorical features\n",
    "Es hora de devolver las features categóricas a valores integers (pero aún así categóricas). Facilidad!"
   ]
  },
  {
   "cell_type": "code",
   "execution_count": 4,
   "metadata": {},
   "outputs": [
    {
     "name": "stdout",
     "output_type": "stream",
     "text": [
      "<class 'pandas.core.frame.DataFrame'>\n",
      "RangeIndex: 30000 entries, 0 to 29999\n",
      "Data columns (total 11 columns):\n",
      "SEX            30000 non-null category\n",
      "EDUCATION      30000 non-null category\n",
      "MARRIAGE       30000 non-null category\n",
      "PAY_0          30000 non-null category\n",
      "PAY_2          30000 non-null category\n",
      "PAY_3          30000 non-null category\n",
      "PAY_4          30000 non-null category\n",
      "PAY_5          30000 non-null category\n",
      "PAY_6          30000 non-null category\n",
      "LIMIT_RANGE    30000 non-null category\n",
      "AGE_RANGE      30000 non-null category\n",
      "dtypes: category(11)\n",
      "memory usage: 325.8 KB\n"
     ]
    },
    {
     "data": {
      "text/html": [
       "<div>\n",
       "<style scoped>\n",
       "    .dataframe tbody tr th:only-of-type {\n",
       "        vertical-align: middle;\n",
       "    }\n",
       "\n",
       "    .dataframe tbody tr th {\n",
       "        vertical-align: top;\n",
       "    }\n",
       "\n",
       "    .dataframe thead th {\n",
       "        text-align: right;\n",
       "    }\n",
       "</style>\n",
       "<table border=\"1\" class=\"dataframe\">\n",
       "  <thead>\n",
       "    <tr style=\"text-align: right;\">\n",
       "      <th></th>\n",
       "      <th>SEX</th>\n",
       "      <th>EDUCATION</th>\n",
       "      <th>MARRIAGE</th>\n",
       "      <th>PAY_0</th>\n",
       "      <th>PAY_2</th>\n",
       "      <th>PAY_3</th>\n",
       "      <th>PAY_4</th>\n",
       "      <th>PAY_5</th>\n",
       "      <th>PAY_6</th>\n",
       "      <th>LIMIT_RANGE</th>\n",
       "      <th>AGE_RANGE</th>\n",
       "    </tr>\n",
       "  </thead>\n",
       "  <tbody>\n",
       "    <tr>\n",
       "      <td>0</td>\n",
       "      <td>0</td>\n",
       "      <td>3</td>\n",
       "      <td>1</td>\n",
       "      <td>4</td>\n",
       "      <td>4</td>\n",
       "      <td>0</td>\n",
       "      <td>0</td>\n",
       "      <td>1</td>\n",
       "      <td>1</td>\n",
       "      <td>0</td>\n",
       "      <td>0</td>\n",
       "    </tr>\n",
       "    <tr>\n",
       "      <td>1</td>\n",
       "      <td>0</td>\n",
       "      <td>3</td>\n",
       "      <td>3</td>\n",
       "      <td>0</td>\n",
       "      <td>4</td>\n",
       "      <td>2</td>\n",
       "      <td>2</td>\n",
       "      <td>2</td>\n",
       "      <td>3</td>\n",
       "      <td>1</td>\n",
       "      <td>0</td>\n",
       "    </tr>\n",
       "    <tr>\n",
       "      <td>2</td>\n",
       "      <td>0</td>\n",
       "      <td>3</td>\n",
       "      <td>3</td>\n",
       "      <td>2</td>\n",
       "      <td>2</td>\n",
       "      <td>2</td>\n",
       "      <td>2</td>\n",
       "      <td>2</td>\n",
       "      <td>2</td>\n",
       "      <td>0</td>\n",
       "      <td>1</td>\n",
       "    </tr>\n",
       "    <tr>\n",
       "      <td>3</td>\n",
       "      <td>0</td>\n",
       "      <td>3</td>\n",
       "      <td>1</td>\n",
       "      <td>2</td>\n",
       "      <td>2</td>\n",
       "      <td>2</td>\n",
       "      <td>2</td>\n",
       "      <td>2</td>\n",
       "      <td>2</td>\n",
       "      <td>0</td>\n",
       "      <td>1</td>\n",
       "    </tr>\n",
       "    <tr>\n",
       "      <td>4</td>\n",
       "      <td>1</td>\n",
       "      <td>3</td>\n",
       "      <td>1</td>\n",
       "      <td>0</td>\n",
       "      <td>2</td>\n",
       "      <td>0</td>\n",
       "      <td>2</td>\n",
       "      <td>2</td>\n",
       "      <td>2</td>\n",
       "      <td>0</td>\n",
       "      <td>3</td>\n",
       "    </tr>\n",
       "    <tr>\n",
       "      <td>5</td>\n",
       "      <td>1</td>\n",
       "      <td>0</td>\n",
       "      <td>3</td>\n",
       "      <td>2</td>\n",
       "      <td>2</td>\n",
       "      <td>2</td>\n",
       "      <td>2</td>\n",
       "      <td>2</td>\n",
       "      <td>2</td>\n",
       "      <td>0</td>\n",
       "      <td>1</td>\n",
       "    </tr>\n",
       "    <tr>\n",
       "      <td>6</td>\n",
       "      <td>1</td>\n",
       "      <td>0</td>\n",
       "      <td>3</td>\n",
       "      <td>2</td>\n",
       "      <td>2</td>\n",
       "      <td>2</td>\n",
       "      <td>2</td>\n",
       "      <td>2</td>\n",
       "      <td>2</td>\n",
       "      <td>4</td>\n",
       "      <td>0</td>\n",
       "    </tr>\n",
       "    <tr>\n",
       "      <td>7</td>\n",
       "      <td>0</td>\n",
       "      <td>3</td>\n",
       "      <td>3</td>\n",
       "      <td>2</td>\n",
       "      <td>0</td>\n",
       "      <td>0</td>\n",
       "      <td>2</td>\n",
       "      <td>2</td>\n",
       "      <td>0</td>\n",
       "      <td>0</td>\n",
       "      <td>0</td>\n",
       "    </tr>\n",
       "    <tr>\n",
       "      <td>8</td>\n",
       "      <td>0</td>\n",
       "      <td>1</td>\n",
       "      <td>1</td>\n",
       "      <td>2</td>\n",
       "      <td>2</td>\n",
       "      <td>4</td>\n",
       "      <td>2</td>\n",
       "      <td>2</td>\n",
       "      <td>2</td>\n",
       "      <td>1</td>\n",
       "      <td>0</td>\n",
       "    </tr>\n",
       "    <tr>\n",
       "      <td>9</td>\n",
       "      <td>1</td>\n",
       "      <td>1</td>\n",
       "      <td>3</td>\n",
       "      <td>1</td>\n",
       "      <td>1</td>\n",
       "      <td>1</td>\n",
       "      <td>1</td>\n",
       "      <td>0</td>\n",
       "      <td>0</td>\n",
       "      <td>0</td>\n",
       "      <td>1</td>\n",
       "    </tr>\n",
       "  </tbody>\n",
       "</table>\n",
       "</div>"
      ],
      "text/plain": [
       "  SEX EDUCATION MARRIAGE PAY_0 PAY_2 PAY_3 PAY_4 PAY_5 PAY_6 LIMIT_RANGE  \\\n",
       "0   0         3        1     4     4     0     0     1     1           0   \n",
       "1   0         3        3     0     4     2     2     2     3           1   \n",
       "2   0         3        3     2     2     2     2     2     2           0   \n",
       "3   0         3        1     2     2     2     2     2     2           0   \n",
       "4   1         3        1     0     2     0     2     2     2           0   \n",
       "5   1         0        3     2     2     2     2     2     2           0   \n",
       "6   1         0        3     2     2     2     2     2     2           4   \n",
       "7   0         3        3     2     0     0     2     2     0           0   \n",
       "8   0         1        1     2     2     4     2     2     2           1   \n",
       "9   1         1        3     1     1     1     1     0     0           0   \n",
       "\n",
       "  AGE_RANGE  \n",
       "0         0  \n",
       "1         0  \n",
       "2         1  \n",
       "3         1  \n",
       "4         3  \n",
       "5         1  \n",
       "6         0  \n",
       "7         0  \n",
       "8         0  \n",
       "9         1  "
      ]
     },
     "execution_count": 4,
     "metadata": {},
     "output_type": "execute_result"
    }
   ],
   "source": [
    "encCategorical = OrdinalEncoder(dtype=np.int32)\n",
    "dsCategorical = dsCredit01[['SEX','EDUCATION','MARRIAGE','PAY_0','PAY_2','PAY_3','PAY_4','PAY_5','PAY_6','LIMIT_RANGE','AGE_RANGE']]\n",
    "encCategorical.fit(dsCategorical)\n",
    "encCategorical.categories_\n",
    "dsCategorical = pd.DataFrame(data=encCategorical.transform(dsCategorical), columns=('SEX','EDUCATION','MARRIAGE','PAY_0','PAY_2','PAY_3','PAY_4','PAY_5','PAY_6','LIMIT_RANGE','AGE_RANGE')).astype(object)\n",
    "dsCategorical = dsCategorical.astype(\"category\")\n",
    "dsCategorical.info()\n",
    "dsCategorical.head(10)\n",
    "#enc.inverse_transform([[1, 0], [0, 1]])"
   ]
  },
  {
   "cell_type": "markdown",
   "metadata": {},
   "source": [
    "### Juntar en el dataset nuevo las features transformadas"
   ]
  },
  {
   "cell_type": "code",
   "execution_count": 5,
   "metadata": {},
   "outputs": [
    {
     "name": "stdout",
     "output_type": "stream",
     "text": [
      "<class 'pandas.core.frame.DataFrame'>\n",
      "RangeIndex: 30000 entries, 0 to 29999\n",
      "Data columns (total 24 columns):\n",
      "SEX                30000 non-null category\n",
      "EDUCATION          30000 non-null category\n",
      "MARRIAGE           30000 non-null category\n",
      "PAY_0              30000 non-null category\n",
      "PAY_2              30000 non-null category\n",
      "PAY_3              30000 non-null category\n",
      "PAY_4              30000 non-null category\n",
      "PAY_5              30000 non-null category\n",
      "PAY_6              30000 non-null category\n",
      "LIMIT_RANGE        30000 non-null category\n",
      "AGE_RANGE          30000 non-null category\n",
      "BILL_AMT1          30000 non-null float64\n",
      "BILL_AMT2          30000 non-null float64\n",
      "BILL_AMT3          30000 non-null float64\n",
      "BILL_AMT4          30000 non-null float64\n",
      "BILL_AMT5          30000 non-null float64\n",
      "BILL_AMT6          30000 non-null float64\n",
      "PAY_AMT1           30000 non-null float64\n",
      "PAY_AMT2           30000 non-null float64\n",
      "PAY_AMT3           30000 non-null float64\n",
      "PAY_AMT4           30000 non-null float64\n",
      "PAY_AMT5           30000 non-null float64\n",
      "PAY_AMT6           30000 non-null float64\n",
      "DEFAULT_NUMERIC    30000 non-null int32\n",
      "dtypes: category(11), float64(12), int32(1)\n",
      "memory usage: 3.2 MB\n"
     ]
    },
    {
     "data": {
      "text/html": [
       "<div>\n",
       "<style scoped>\n",
       "    .dataframe tbody tr th:only-of-type {\n",
       "        vertical-align: middle;\n",
       "    }\n",
       "\n",
       "    .dataframe tbody tr th {\n",
       "        vertical-align: top;\n",
       "    }\n",
       "\n",
       "    .dataframe thead th {\n",
       "        text-align: right;\n",
       "    }\n",
       "</style>\n",
       "<table border=\"1\" class=\"dataframe\">\n",
       "  <thead>\n",
       "    <tr style=\"text-align: right;\">\n",
       "      <th></th>\n",
       "      <th>SEX</th>\n",
       "      <th>EDUCATION</th>\n",
       "      <th>MARRIAGE</th>\n",
       "      <th>PAY_0</th>\n",
       "      <th>PAY_2</th>\n",
       "      <th>PAY_3</th>\n",
       "      <th>PAY_4</th>\n",
       "      <th>PAY_5</th>\n",
       "      <th>PAY_6</th>\n",
       "      <th>LIMIT_RANGE</th>\n",
       "      <th>...</th>\n",
       "      <th>BILL_AMT4</th>\n",
       "      <th>BILL_AMT5</th>\n",
       "      <th>BILL_AMT6</th>\n",
       "      <th>PAY_AMT1</th>\n",
       "      <th>PAY_AMT2</th>\n",
       "      <th>PAY_AMT3</th>\n",
       "      <th>PAY_AMT4</th>\n",
       "      <th>PAY_AMT5</th>\n",
       "      <th>PAY_AMT6</th>\n",
       "      <th>DEFAULT_NUMERIC</th>\n",
       "    </tr>\n",
       "  </thead>\n",
       "  <tbody>\n",
       "    <tr>\n",
       "      <td>0</td>\n",
       "      <td>0</td>\n",
       "      <td>3</td>\n",
       "      <td>1</td>\n",
       "      <td>4</td>\n",
       "      <td>4</td>\n",
       "      <td>0</td>\n",
       "      <td>0</td>\n",
       "      <td>1</td>\n",
       "      <td>1</td>\n",
       "      <td>0</td>\n",
       "      <td>...</td>\n",
       "      <td>-0.672497</td>\n",
       "      <td>-0.663059</td>\n",
       "      <td>-0.652724</td>\n",
       "      <td>-0.341942</td>\n",
       "      <td>-0.227086</td>\n",
       "      <td>-0.296801</td>\n",
       "      <td>-0.308063</td>\n",
       "      <td>-0.314136</td>\n",
       "      <td>-0.293382</td>\n",
       "      <td>1</td>\n",
       "    </tr>\n",
       "    <tr>\n",
       "      <td>1</td>\n",
       "      <td>0</td>\n",
       "      <td>3</td>\n",
       "      <td>3</td>\n",
       "      <td>0</td>\n",
       "      <td>4</td>\n",
       "      <td>2</td>\n",
       "      <td>2</td>\n",
       "      <td>2</td>\n",
       "      <td>3</td>\n",
       "      <td>1</td>\n",
       "      <td>...</td>\n",
       "      <td>-0.621636</td>\n",
       "      <td>-0.606229</td>\n",
       "      <td>-0.597966</td>\n",
       "      <td>-0.341942</td>\n",
       "      <td>-0.213588</td>\n",
       "      <td>-0.240005</td>\n",
       "      <td>-0.244230</td>\n",
       "      <td>-0.314136</td>\n",
       "      <td>-0.180878</td>\n",
       "      <td>1</td>\n",
       "    </tr>\n",
       "    <tr>\n",
       "      <td>2</td>\n",
       "      <td>0</td>\n",
       "      <td>3</td>\n",
       "      <td>3</td>\n",
       "      <td>2</td>\n",
       "      <td>2</td>\n",
       "      <td>2</td>\n",
       "      <td>2</td>\n",
       "      <td>2</td>\n",
       "      <td>2</td>\n",
       "      <td>0</td>\n",
       "      <td>...</td>\n",
       "      <td>-0.449730</td>\n",
       "      <td>-0.417188</td>\n",
       "      <td>-0.391630</td>\n",
       "      <td>-0.250292</td>\n",
       "      <td>-0.191887</td>\n",
       "      <td>-0.240005</td>\n",
       "      <td>-0.244230</td>\n",
       "      <td>-0.248683</td>\n",
       "      <td>-0.012122</td>\n",
       "      <td>0</td>\n",
       "    </tr>\n",
       "    <tr>\n",
       "      <td>3</td>\n",
       "      <td>0</td>\n",
       "      <td>3</td>\n",
       "      <td>1</td>\n",
       "      <td>2</td>\n",
       "      <td>2</td>\n",
       "      <td>2</td>\n",
       "      <td>2</td>\n",
       "      <td>2</td>\n",
       "      <td>2</td>\n",
       "      <td>0</td>\n",
       "      <td>...</td>\n",
       "      <td>-0.232373</td>\n",
       "      <td>-0.186729</td>\n",
       "      <td>-0.156579</td>\n",
       "      <td>-0.221191</td>\n",
       "      <td>-0.169361</td>\n",
       "      <td>-0.228645</td>\n",
       "      <td>-0.237846</td>\n",
       "      <td>-0.244166</td>\n",
       "      <td>-0.237130</td>\n",
       "      <td>0</td>\n",
       "    </tr>\n",
       "    <tr>\n",
       "      <td>4</td>\n",
       "      <td>1</td>\n",
       "      <td>3</td>\n",
       "      <td>1</td>\n",
       "      <td>0</td>\n",
       "      <td>2</td>\n",
       "      <td>0</td>\n",
       "      <td>2</td>\n",
       "      <td>2</td>\n",
       "      <td>2</td>\n",
       "      <td>0</td>\n",
       "      <td>...</td>\n",
       "      <td>-0.346997</td>\n",
       "      <td>-0.348137</td>\n",
       "      <td>-0.331482</td>\n",
       "      <td>-0.221191</td>\n",
       "      <td>1.335034</td>\n",
       "      <td>0.271165</td>\n",
       "      <td>0.266434</td>\n",
       "      <td>-0.269039</td>\n",
       "      <td>-0.255187</td>\n",
       "      <td>0</td>\n",
       "    </tr>\n",
       "    <tr>\n",
       "      <td>5</td>\n",
       "      <td>1</td>\n",
       "      <td>0</td>\n",
       "      <td>3</td>\n",
       "      <td>2</td>\n",
       "      <td>2</td>\n",
       "      <td>2</td>\n",
       "      <td>2</td>\n",
       "      <td>2</td>\n",
       "      <td>2</td>\n",
       "      <td>0</td>\n",
       "      <td>...</td>\n",
       "      <td>-0.371029</td>\n",
       "      <td>-0.340357</td>\n",
       "      <td>-0.316487</td>\n",
       "      <td>-0.191003</td>\n",
       "      <td>-0.178215</td>\n",
       "      <td>-0.259486</td>\n",
       "      <td>-0.244230</td>\n",
       "      <td>-0.248683</td>\n",
       "      <td>-0.248381</td>\n",
       "      <td>0</td>\n",
       "    </tr>\n",
       "    <tr>\n",
       "      <td>6</td>\n",
       "      <td>1</td>\n",
       "      <td>0</td>\n",
       "      <td>3</td>\n",
       "      <td>2</td>\n",
       "      <td>2</td>\n",
       "      <td>2</td>\n",
       "      <td>2</td>\n",
       "      <td>2</td>\n",
       "      <td>2</td>\n",
       "      <td>4</td>\n",
       "      <td>...</td>\n",
       "      <td>7.762727</td>\n",
       "      <td>7.281574</td>\n",
       "      <td>7.305617</td>\n",
       "      <td>2.978712</td>\n",
       "      <td>1.479085</td>\n",
       "      <td>1.861472</td>\n",
       "      <td>0.983852</td>\n",
       "      <td>0.585848</td>\n",
       "      <td>0.481207</td>\n",
       "      <td>0</td>\n",
       "    </tr>\n",
       "    <tr>\n",
       "      <td>7</td>\n",
       "      <td>0</td>\n",
       "      <td>3</td>\n",
       "      <td>3</td>\n",
       "      <td>2</td>\n",
       "      <td>0</td>\n",
       "      <td>0</td>\n",
       "      <td>2</td>\n",
       "      <td>2</td>\n",
       "      <td>0</td>\n",
       "      <td>0</td>\n",
       "      <td>...</td>\n",
       "      <td>-0.669062</td>\n",
       "      <td>-0.665674</td>\n",
       "      <td>-0.643203</td>\n",
       "      <td>-0.318999</td>\n",
       "      <td>-0.230905</td>\n",
       "      <td>-0.296801</td>\n",
       "      <td>-0.270976</td>\n",
       "      <td>-0.203716</td>\n",
       "      <td>-0.206642</td>\n",
       "      <td>0</td>\n",
       "    </tr>\n",
       "    <tr>\n",
       "      <td>8</td>\n",
       "      <td>0</td>\n",
       "      <td>1</td>\n",
       "      <td>1</td>\n",
       "      <td>2</td>\n",
       "      <td>2</td>\n",
       "      <td>4</td>\n",
       "      <td>2</td>\n",
       "      <td>2</td>\n",
       "      <td>2</td>\n",
       "      <td>1</td>\n",
       "      <td>...</td>\n",
       "      <td>-0.482684</td>\n",
       "      <td>-0.469082</td>\n",
       "      <td>-0.590276</td>\n",
       "      <td>-0.140952</td>\n",
       "      <td>-0.256990</td>\n",
       "      <td>-0.272265</td>\n",
       "      <td>-0.244230</td>\n",
       "      <td>-0.248683</td>\n",
       "      <td>-0.237130</td>\n",
       "      <td>0</td>\n",
       "    </tr>\n",
       "    <tr>\n",
       "      <td>9</td>\n",
       "      <td>1</td>\n",
       "      <td>1</td>\n",
       "      <td>3</td>\n",
       "      <td>1</td>\n",
       "      <td>1</td>\n",
       "      <td>1</td>\n",
       "      <td>1</td>\n",
       "      <td>0</td>\n",
       "      <td>0</td>\n",
       "      <td>0</td>\n",
       "      <td>...</td>\n",
       "      <td>-0.672497</td>\n",
       "      <td>-0.449114</td>\n",
       "      <td>-0.419118</td>\n",
       "      <td>-0.341942</td>\n",
       "      <td>-0.256990</td>\n",
       "      <td>-0.296801</td>\n",
       "      <td>0.522212</td>\n",
       "      <td>-0.240697</td>\n",
       "      <td>-0.293382</td>\n",
       "      <td>0</td>\n",
       "    </tr>\n",
       "  </tbody>\n",
       "</table>\n",
       "<p>10 rows × 24 columns</p>\n",
       "</div>"
      ],
      "text/plain": [
       "  SEX EDUCATION MARRIAGE PAY_0 PAY_2 PAY_3 PAY_4 PAY_5 PAY_6 LIMIT_RANGE  ...  \\\n",
       "0   0         3        1     4     4     0     0     1     1           0  ...   \n",
       "1   0         3        3     0     4     2     2     2     3           1  ...   \n",
       "2   0         3        3     2     2     2     2     2     2           0  ...   \n",
       "3   0         3        1     2     2     2     2     2     2           0  ...   \n",
       "4   1         3        1     0     2     0     2     2     2           0  ...   \n",
       "5   1         0        3     2     2     2     2     2     2           0  ...   \n",
       "6   1         0        3     2     2     2     2     2     2           4  ...   \n",
       "7   0         3        3     2     0     0     2     2     0           0  ...   \n",
       "8   0         1        1     2     2     4     2     2     2           1  ...   \n",
       "9   1         1        3     1     1     1     1     0     0           0  ...   \n",
       "\n",
       "  BILL_AMT4  BILL_AMT5  BILL_AMT6  PAY_AMT1  PAY_AMT2  PAY_AMT3  PAY_AMT4  \\\n",
       "0 -0.672497  -0.663059  -0.652724 -0.341942 -0.227086 -0.296801 -0.308063   \n",
       "1 -0.621636  -0.606229  -0.597966 -0.341942 -0.213588 -0.240005 -0.244230   \n",
       "2 -0.449730  -0.417188  -0.391630 -0.250292 -0.191887 -0.240005 -0.244230   \n",
       "3 -0.232373  -0.186729  -0.156579 -0.221191 -0.169361 -0.228645 -0.237846   \n",
       "4 -0.346997  -0.348137  -0.331482 -0.221191  1.335034  0.271165  0.266434   \n",
       "5 -0.371029  -0.340357  -0.316487 -0.191003 -0.178215 -0.259486 -0.244230   \n",
       "6  7.762727   7.281574   7.305617  2.978712  1.479085  1.861472  0.983852   \n",
       "7 -0.669062  -0.665674  -0.643203 -0.318999 -0.230905 -0.296801 -0.270976   \n",
       "8 -0.482684  -0.469082  -0.590276 -0.140952 -0.256990 -0.272265 -0.244230   \n",
       "9 -0.672497  -0.449114  -0.419118 -0.341942 -0.256990 -0.296801  0.522212   \n",
       "\n",
       "   PAY_AMT5  PAY_AMT6  DEFAULT_NUMERIC  \n",
       "0 -0.314136 -0.293382                1  \n",
       "1 -0.314136 -0.180878                1  \n",
       "2 -0.248683 -0.012122                0  \n",
       "3 -0.244166 -0.237130                0  \n",
       "4 -0.269039 -0.255187                0  \n",
       "5 -0.248683 -0.248381                0  \n",
       "6  0.585848  0.481207                0  \n",
       "7 -0.203716 -0.206642                0  \n",
       "8 -0.248683 -0.237130                0  \n",
       "9 -0.240697 -0.293382                0  \n",
       "\n",
       "[10 rows x 24 columns]"
      ]
     },
     "execution_count": 5,
     "metadata": {},
     "output_type": "execute_result"
    }
   ],
   "source": [
    "dsReady = pd.concat([dsCategorical, dsBillAmt_scaled, dsCredit01[[\"DEFAULT_NUMERIC\"]]], axis=1)\n",
    "dsReady.info()\n",
    "dsReady.head(10)"
   ]
  },
  {
   "cell_type": "markdown",
   "metadata": {},
   "source": [
    "### Covarianza"
   ]
  },
  {
   "cell_type": "code",
   "execution_count": 6,
   "metadata": {},
   "outputs": [
    {
     "name": "stdout",
     "output_type": "stream",
     "text": [
      "                 BILL_AMT1  BILL_AMT2  BILL_AMT3  BILL_AMT4  BILL_AMT5  \\\n",
      "BILL_AMT1         1.000033   0.951515   0.892308   0.860301   0.829806   \n",
      "BILL_AMT2         0.951515   1.000033   0.928357   0.892512   0.859807   \n",
      "BILL_AMT3         0.892308   0.928357   1.000033   0.924000   0.883939   \n",
      "BILL_AMT4         0.860301   0.892512   0.924000   1.000033   0.940166   \n",
      "BILL_AMT5         0.829806   0.859807   0.883939   0.940166   1.000033   \n",
      "BILL_AMT6         0.802677   0.831621   0.853349   0.900971   0.946228   \n",
      "PAY_AMT1          0.140282   0.280375   0.244343   0.233020   0.217038   \n",
      "PAY_AMT2          0.099358   0.100854   0.316947   0.207571   0.181253   \n",
      "PAY_AMT3          0.156892   0.150723   0.130016   0.300033   0.252313   \n",
      "PAY_AMT4          0.158308   0.147403   0.143409   0.130196   0.293128   \n",
      "PAY_AMT5          0.167031   0.157963   0.179718   0.160438   0.141579   \n",
      "PAY_AMT6          0.179347   0.174262   0.182332   0.177643   0.164190   \n",
      "DEFAULT_NUMERIC  -0.008154  -0.005891  -0.005842  -0.004216  -0.002806   \n",
      "\n",
      "                 BILL_AMT6  PAY_AMT1  PAY_AMT2  PAY_AMT3  PAY_AMT4  PAY_AMT5  \\\n",
      "BILL_AMT1         0.802677  0.140282  0.099358  0.156892  0.158308  0.167031   \n",
      "BILL_AMT2         0.831621  0.280375  0.100854  0.150723  0.147403  0.157963   \n",
      "BILL_AMT3         0.853349  0.244343  0.316947  0.130016  0.143409  0.179718   \n",
      "BILL_AMT4         0.900971  0.233020  0.207571  0.300033  0.130196  0.160438   \n",
      "BILL_AMT5         0.946228  0.217038  0.181253  0.252313  0.293128  0.141579   \n",
      "BILL_AMT6         1.000033  0.199972  0.172669  0.233778  0.250245  0.307739   \n",
      "PAY_AMT1          0.199972  1.000033  0.285585  0.252200  0.199565  0.148464   \n",
      "PAY_AMT2          0.172669  0.285585  1.000033  0.244779  0.180113  0.180914   \n",
      "PAY_AMT3          0.233778  0.252200  0.244779  1.000033  0.216332  0.159219   \n",
      "PAY_AMT4          0.250245  0.199565  0.180113  0.216332  1.000033  0.151835   \n",
      "PAY_AMT5          0.307739  0.148464  0.180914  0.159219  0.151835  1.000033   \n",
      "PAY_AMT6          0.115498  0.185741  0.157639  0.162745  0.157839  0.154901   \n",
      "DEFAULT_NUMERIC  -0.002230 -0.030271 -0.024314 -0.023348 -0.023587 -0.022880   \n",
      "\n",
      "                 PAY_AMT6  DEFAULT_NUMERIC  \n",
      "BILL_AMT1        0.179347        -0.008154  \n",
      "BILL_AMT2        0.174262        -0.005891  \n",
      "BILL_AMT3        0.182332        -0.005842  \n",
      "BILL_AMT4        0.177643        -0.004216  \n",
      "BILL_AMT5        0.164190        -0.002806  \n",
      "BILL_AMT6        0.115498        -0.002230  \n",
      "PAY_AMT1         0.185741        -0.030271  \n",
      "PAY_AMT2         0.157639        -0.024314  \n",
      "PAY_AMT3         0.162745        -0.023348  \n",
      "PAY_AMT4         0.157839        -0.023587  \n",
      "PAY_AMT5         0.154901        -0.022880  \n",
      "PAY_AMT6         1.000033        -0.022075  \n",
      "DEFAULT_NUMERIC -0.022075         0.172276  \n"
     ]
    }
   ],
   "source": [
    "covMat = dsReady.cov()\n",
    "print(covMat)"
   ]
  },
  {
   "cell_type": "code",
   "execution_count": 7,
   "metadata": {},
   "outputs": [
    {
     "data": {
      "text/plain": [
       "[Text(0, 0.5, 'BILL_AMT1'),\n",
       " Text(0, 1.5, 'BILL_AMT2'),\n",
       " Text(0, 2.5, 'BILL_AMT3'),\n",
       " Text(0, 3.5, 'BILL_AMT4'),\n",
       " Text(0, 4.5, 'BILL_AMT5'),\n",
       " Text(0, 5.5, 'BILL_AMT6'),\n",
       " Text(0, 6.5, 'PAY_AMT1'),\n",
       " Text(0, 7.5, 'PAY_AMT2'),\n",
       " Text(0, 8.5, 'PAY_AMT3'),\n",
       " Text(0, 9.5, 'PAY_AMT4'),\n",
       " Text(0, 10.5, 'PAY_AMT5'),\n",
       " Text(0, 11.5, 'PAY_AMT6'),\n",
       " Text(0, 12.5, 'DEFAULT_NUMERIC')]"
      ]
     },
     "execution_count": 7,
     "metadata": {},
     "output_type": "execute_result"
    },
    {
     "data": {
      "image/png": "[encoded data removed]",
      "text/plain": [
       "<Figure size 1080x1080 with 2 Axes>"
      ]
     },
     "metadata": {
      "needs_background": "light"
     },
     "output_type": "display_data"
    }
   ],
   "source": [
    "fig, ax = plt.subplots(figsize=(15,15))       \n",
    "sns.heatmap(covMat, annot=True, ax=ax)\n",
    "ax.set_yticklabels(ax.get_yticklabels(), rotation = 0)"
   ]
  },
  {
   "cell_type": "markdown",
   "metadata": {},
   "source": [
    "Existe una alta covarianza entre los saldos de las cuentas (BILL_AMTN) de meses contiguos. La covarianza se debilita cuando los meses no son contiguos pero aún sigue siendo alta por encima de 0.8. \n",
    "\n",
    "Si se utiliza la variable DEFAULT_PAYMENT como numérica prácticamente no hay covarianza con ninguna de las variables numéricas. Esto nos lleva a la conclusión que estas features no tienen ninguna relación con el default. \n",
    "\n",
    "No importa cuando pagues o cuanto sea tu saldo. Lo realmente importante es el estado del mes, o bien, obtener la relación entre el saldo y lo pagado (idea por desarrollar aunque no se puede asumir nada)"
   ]
  },
  {
   "cell_type": "markdown",
   "metadata": {},
   "source": [
    "### Feature Selection with RFE\n",
    "En este caso se utilizará RFE con Cross Validation"
   ]
  },
  {
   "cell_type": "code",
   "execution_count": 8,
   "metadata": {},
   "outputs": [],
   "source": [
    "# Elimino variable dependiente agregar al set de datos para la covarianza\n",
    "dsReady.drop([\"DEFAULT_NUMERIC\"], axis=1, inplace=True)"
   ]
  },
  {
   "cell_type": "code",
   "execution_count": 37,
   "metadata": {},
   "outputs": [],
   "source": [
    "# tomo una muestra\n",
    "X_train, X_test, y_train, y_test = train_test_split(dsReady, dsCredit01[[\"DEFAULT_PAYMENT\"]], test_size=0.20, random_state=75)\n",
    "\n",
    "# Crear objeto RFE y calcular puntaje del cross validation.\n",
    "svc = SVC(kernel=\"linear\")\n",
    "\n",
    "# \"Accuracy\" is proportional a la cantidad de clasificaciones correctas\n",
    "rfecv = RFECV(estimator=svc, step=1, cv=StratifiedKFold(5), scoring='accuracy', n_jobs=2, min_features_to_select=5)\n"
   ]
  },
  {
   "cell_type": "code",
   "execution_count": 30,
   "metadata": {},
   "outputs": [
    {
     "name": "stdout",
     "output_type": "stream",
     "text": [
      "<class 'pandas.core.frame.DataFrame'>\n",
      "Int64Index: 6000 entries, 20689 to 15263\n",
      "Data columns (total 1 columns):\n",
      "DEFAULT_PAYMENT    6000 non-null category\n",
      "dtypes: category(1)\n",
      "memory usage: 52.8 KB\n"
     ]
    }
   ],
   "source": [
    "y_test.info()"
   ]
  },
  {
   "cell_type": "code",
   "execution_count": 31,
   "metadata": {},
   "outputs": [
    {
     "name": "stdout",
     "output_type": "stream",
     "text": [
      "<class 'pandas.core.frame.DataFrame'>\n",
      "Int64Index: 6000 entries, 20689 to 15263\n",
      "Data columns (total 23 columns):\n",
      "SEX            6000 non-null category\n",
      "EDUCATION      6000 non-null category\n",
      "MARRIAGE       6000 non-null category\n",
      "PAY_0          6000 non-null category\n",
      "PAY_2          6000 non-null category\n",
      "PAY_3          6000 non-null category\n",
      "PAY_4          6000 non-null category\n",
      "PAY_5          6000 non-null category\n",
      "PAY_6          6000 non-null category\n",
      "LIMIT_RANGE    6000 non-null category\n",
      "AGE_RANGE      6000 non-null category\n",
      "BILL_AMT1      6000 non-null float64\n",
      "BILL_AMT2      6000 non-null float64\n",
      "BILL_AMT3      6000 non-null float64\n",
      "BILL_AMT4      6000 non-null float64\n",
      "BILL_AMT5      6000 non-null float64\n",
      "BILL_AMT6      6000 non-null float64\n",
      "PAY_AMT1       6000 non-null float64\n",
      "PAY_AMT2       6000 non-null float64\n",
      "PAY_AMT3       6000 non-null float64\n",
      "PAY_AMT4       6000 non-null float64\n",
      "PAY_AMT5       6000 non-null float64\n",
      "PAY_AMT6       6000 non-null float64\n",
      "dtypes: category(11), float64(12)\n",
      "memory usage: 677.3 KB\n"
     ]
    }
   ],
   "source": [
    "X_test.info()"
   ]
  },
  {
   "cell_type": "code",
   "execution_count": 38,
   "metadata": {},
   "outputs": [
    {
     "name": "stdout",
     "output_type": "stream",
     "text": [
      "Optimal number of features : 22\n"
     ]
    }
   ],
   "source": [
    "rfecv.fit(X_test,  y_test.values.ravel())\n",
    "\n",
    "print(\"Optimal number of features : %d\" % rfecv.n_features_)\n",
    "\n"
   ]
  },
  {
   "cell_type": "code",
   "execution_count": 33,
   "metadata": {},
   "outputs": [
    {
     "data": {
      "text/plain": [
       "array([ True, False, False, False, False, False,  True,  True, False,\n",
       "       False, False, False,  True, False, False, False, False, False,\n",
       "        True, False, False, False, False])"
      ]
     },
     "execution_count": 33,
     "metadata": {},
     "output_type": "execute_result"
    }
   ],
   "source": [
    "rfecv.support_"
   ]
  },
  {
   "cell_type": "code",
   "execution_count": 34,
   "metadata": {},
   "outputs": [
    {
     "data": {
      "text/plain": [
       "Index(['SEX', 'EDUCATION', 'MARRIAGE', 'PAY_0', 'PAY_2', 'PAY_3', 'PAY_4',\n",
       "       'PAY_5', 'PAY_6', 'LIMIT_RANGE', 'AGE_RANGE', 'BILL_AMT1', 'BILL_AMT2',\n",
       "       'BILL_AMT3', 'BILL_AMT4', 'BILL_AMT5', 'BILL_AMT6', 'PAY_AMT1',\n",
       "       'PAY_AMT2', 'PAY_AMT3', 'PAY_AMT4', 'PAY_AMT5', 'PAY_AMT6'],\n",
       "      dtype='object')"
      ]
     },
     "execution_count": 34,
     "metadata": {},
     "output_type": "execute_result"
    }
   ],
   "source": [
    "\n",
    "dsReady.columns"
   ]
  },
  {
   "cell_type": "code",
   "execution_count": 35,
   "metadata": {},
   "outputs": [
    {
     "data": {
      "text/plain": [
       "array([0.77783349, 0.77783349, 0.77783349, 0.77783349, 0.77783349,\n",
       "       0.77783349, 0.77783349, 0.77783349, 0.77783349, 0.77783349,\n",
       "       0.77783349, 0.77783349, 0.77783349, 0.77783349, 0.77783349,\n",
       "       0.77783349, 0.77783349, 0.77783349, 0.77783349])"
      ]
     },
     "execution_count": 35,
     "metadata": {},
     "output_type": "execute_result"
    }
   ],
   "source": [
    "rfecv.grid_scores_"
   ]
  },
  {
   "cell_type": "code",
   "execution_count": 36,
   "metadata": {},
   "outputs": [
    {
     "data": {
      "image/png": "[encoded data removed]",
      "text/plain": [
       "<Figure size 432x288 with 1 Axes>"
      ]
     },
     "metadata": {
      "needs_background": "light"
     },
     "output_type": "display_data"
    }
   ],
   "source": [
    "\n",
    "# Plot number of features VS. cross-validation scores\n",
    "plt.figure()\n",
    "plt.xlabel(\"Number of features selected\")\n",
    "plt.ylabel(\"Cross validation score (nb of correct classifications)\")\n",
    "plt.plot(range(1, len(rfecv.grid_scores_) + 1), rfecv.grid_scores_)\n",
    "plt.show()"
   ]
  },
  {
   "cell_type": "markdown",
   "metadata": {},
   "source": [
    "## Construccion de Modelos Out-of-the-box"
   ]
  },
  {
   "cell_type": "markdown",
   "metadata": {},
   "source": [
    "### Muestra"
   ]
  },
  {
   "cell_type": "code",
   "execution_count": 61,
   "metadata": {},
   "outputs": [],
   "source": [
    "# tomo una muestra del dataset ready \n",
    "X_train, X_test, y_train, y_test = train_test_split(dsReady, dsCredit01[[\"DEFAULT_PAYMENT\"]], test_size=0.30, random_state=75)\n",
    "\n",
    "# sobre esa muestra se construirá el modelo\n",
    "#X_train, X_test, y_train, y_test = train_test_split(X_test,y_test, test_size=0.30, random_state=750)"
   ]
  },
  {
   "cell_type": "code",
   "execution_count": 80,
   "metadata": {},
   "outputs": [
    {
     "name": "stdout",
     "output_type": "stream",
     "text": [
      "Filas dataset entrenamiento (X_train):  21000\n",
      "Filas dataset test: (X_test) 9000\n",
      "Filas y_train:  21000\n",
      "Filas y_test:  9000\n"
     ]
    }
   ],
   "source": [
    "# revisar datos\n",
    "print(\"Filas dataset entrenamiento (X_train): \", len(X_train.index))\n",
    "print(\"Filas dataset test: (X_test)\", len(X_test.index))\n",
    "print(\"Filas y_train: \", len(y_train.index))\n",
    "print(\"Filas y_test: \", len(y_test.index))\n"
   ]
  },
  {
   "cell_type": "markdown",
   "metadata": {},
   "source": [
    "### Importar modelos a utilizar"
   ]
  },
  {
   "cell_type": "code",
   "execution_count": 180,
   "metadata": {},
   "outputs": [],
   "source": [
    "from sklearn.metrics import accuracy_score, log_loss, cohen_kappa_score, confusion_matrix\n",
    "from sklearn.neighbors import KNeighborsClassifier\n",
    "from sklearn.svm import SVC, LinearSVC, NuSVC\n",
    "from sklearn.ensemble import RandomForestClassifier, GradientBoostingClassifier\n",
    "from sklearn.discriminant_analysis import LinearDiscriminantAnalysis\n",
    "from sklearn.neural_network import MLPClassifier"
   ]
  },
  {
   "cell_type": "code",
   "execution_count": 181,
   "metadata": {},
   "outputs": [],
   "source": [
    "clasificadores = [\n",
    "    KNeighborsClassifier(3),\n",
    "    SVC(kernel=\"linear\", C=0.025, probability=True),\n",
    "    RandomForestClassifier(),\n",
    "    GradientBoostingClassifier(),\n",
    "    LinearDiscriminantAnalysis(),\n",
    "    MLPClassifier()]"
   ]
  },
  {
   "cell_type": "markdown",
   "metadata": {},
   "source": [
    "### Logs y evaluadores\n"
   ]
  },
  {
   "cell_type": "code",
   "execution_count": 182,
   "metadata": {},
   "outputs": [],
   "source": [
    "log_cols=[\"Classifier\", \"Accuracy\", \"Log Loss\", \"Kappa\"]\n",
    "log = pd.DataFrame(columns=log_cols)\n",
    "acms = []"
   ]
  },
  {
   "cell_type": "markdown",
   "metadata": {},
   "source": [
    "### Fit y evaluación"
   ]
  },
  {
   "cell_type": "code",
   "execution_count": 183,
   "metadata": {},
   "outputs": [
    {
     "name": "stdout",
     "output_type": "stream",
     "text": [
      "==============================\n",
      "KNeighborsClassifier\n",
      "****Resultados****\n",
      "Accuracy: 78.1444%\n",
      "Kappa: 29.4285%\n",
      "Log Loss: 3.2488359099826174\n",
      "==============================\n",
      "SVC\n",
      "****Resultados****\n",
      "Accuracy: 78.1889%\n",
      "Kappa: 0.0000%\n",
      "Log Loss: 0.5245726324524981\n",
      "==============================\n",
      "RandomForestClassifier\n",
      "****Resultados****\n",
      "Accuracy: 81.0667%\n",
      "Kappa: 33.2327%\n",
      "Log Loss: 1.178919034157363\n",
      "==============================\n",
      "GradientBoostingClassifier\n",
      "****Resultados****\n",
      "Accuracy: 82.5556%\n",
      "Kappa: 38.5917%\n",
      "Log Loss: 0.4176434749000934\n",
      "==============================\n",
      "LinearDiscriminantAnalysis\n",
      "****Resultados****\n",
      "Accuracy: 80.9222%\n",
      "Kappa: 26.1488%\n",
      "Log Loss: 0.4616636981513314\n",
      "==============================\n",
      "MLPClassifier\n",
      "****Resultados****\n",
      "Accuracy: 81.4556%\n",
      "Kappa: 34.6763%\n",
      "Log Loss: 0.43948692150495755\n",
      "==============================\n"
     ]
    }
   ],
   "source": [
    "for model in clasificadores:\n",
    "    model.fit(X_train, y_train.values.ravel())\n",
    "    name = model.__class__.__name__\n",
    "    \n",
    "    print(\"=\"*30)\n",
    "    print(name)\n",
    "    \n",
    "    print('****Resultados****')\n",
    "    train_predictions = model.predict(X_test)\n",
    "    \n",
    "    cm = confusion_matrix(y_test.values.ravel(),train_predictions)\n",
    "    acms.append(cm)\n",
    "    \n",
    "    acc = accuracy_score(y_test.values.ravel(), train_predictions)\n",
    "    print(\"Accuracy: {:.4%}\".format(acc))\n",
    "    \n",
    "    kap = cohen_kappa_score(y_test.values.ravel(), train_predictions)\n",
    "    print(\"Kappa: {:.4%}\".format(kap))\n",
    "    \n",
    "    train_predictions = model.predict_proba(X_test)\n",
    "    ll = log_loss(y_test.values.ravel(), train_predictions)\n",
    "    print(\"Log Loss: {}\".format(ll))\n",
    "    \n",
    "    log_entry = pd.DataFrame([[name, acc*100, ll, kap*100]], columns=log_cols)\n",
    "    log = log.append(log_entry)\n",
    "    \n",
    "print(\"=\"*30)"
   ]
  },
  {
   "cell_type": "markdown",
   "metadata": {},
   "source": [
    "### Plot Resultados"
   ]
  },
  {
   "cell_type": "code",
   "execution_count": 184,
   "metadata": {},
   "outputs": [
    {
     "data": {
      "image/png": "[encoded data removed]",
      "text/plain": [
       "<Figure size 432x288 with 1 Axes>"
      ]
     },
     "metadata": {},
     "output_type": "display_data"
    },
    {
     "data": {
      "image/png": "[encoded data removed]",
      "text/plain": [
       "<Figure size 432x288 with 1 Axes>"
      ]
     },
     "metadata": {},
     "output_type": "display_data"
    },
    {
     "data": {
      "image/png": "[encoded data removed]",
      "text/plain": [
       "<Figure size 432x288 with 1 Axes>"
      ]
     },
     "metadata": {},
     "output_type": "display_data"
    }
   ],
   "source": [
    "sns.set_color_codes(\"muted\")\n",
    "sns.barplot(x='Accuracy', y='Classifier', data=log, color=\"b\")\n",
    "\n",
    "plt.xlabel('Accuracy %')\n",
    "plt.title('Classifier Accuracy')\n",
    "plt.show()\n",
    "\n",
    "sns.set_color_codes(\"muted\")\n",
    "sns.barplot(x='Kappa', y='Classifier', data=log, color=\"b\")\n",
    "\n",
    "plt.xlabel('Kappa %')\n",
    "plt.title('Classifier Kappa')\n",
    "plt.show()\n",
    "\n",
    "sns.set_color_codes(\"muted\")\n",
    "sns.barplot(x='Log Loss', y='Classifier', data=log, color=\"g\")\n",
    "\n",
    "plt.xlabel('Log Loss')\n",
    "plt.title('Classifier Log Loss')\n",
    "plt.show()"
   ]
  },
  {
   "cell_type": "markdown",
   "metadata": {},
   "source": [
    "### Matrices de Confusión"
   ]
  },
  {
   "cell_type": "code",
   "execution_count": 185,
   "metadata": {},
   "outputs": [
    {
     "data": {
      "image/png": "[encoded data removed]",
      "text/plain": [
       "<Figure size 432x288 with 2 Axes>"
      ]
     },
     "metadata": {},
     "output_type": "display_data"
    },
    {
     "data": {
      "image/png": "[encoded data removed]",
      "text/plain": [
       "<Figure size 432x288 with 2 Axes>"
      ]
     },
     "metadata": {},
     "output_type": "display_data"
    },
    {
     "data": {
      "image/png": "[encoded data removed]",
      "text/plain": [
       "<Figure size 432x288 with 2 Axes>"
      ]
     },
     "metadata": {},
     "output_type": "display_data"
    },
    {
     "data": {
      "image/png": "[encoded data removed]",
      "text/plain": [
       "<Figure size 432x288 with 2 Axes>"
      ]
     },
     "metadata": {},
     "output_type": "display_data"
    },
    {
     "data": {
      "image/png": "[encoded data removed]",
      "text/plain": [
       "<Figure size 432x288 with 2 Axes>"
      ]
     },
     "metadata": {},
     "output_type": "display_data"
    },
    {
     "data": {
      "image/png": "[encoded data removed]",
      "text/plain": [
       "<Figure size 432x288 with 2 Axes>"
      ]
     },
     "metadata": {},
     "output_type": "display_data"
    }
   ],
   "source": [
    "annot_kws = {\"ha\": 'left',\"va\": 'center', \"color\":'r'}\n",
    "i = 0\n",
    "for cm in acms:\n",
    "    sns.set(font_scale=1.4) # for label size\n",
    "    ax = sns.heatmap(cm, annot=True, annot_kws=annot_kws, fmt=\"d\", cmap=\"YlGnBu\") # font size\n",
    "    ax.set_title(log.iloc[i]['Classifier'])\n",
    "    plt.xlabel('Ground Truth', fontsize = 15) # x-axis label with fontsize 15\n",
    "    plt.ylabel('Predicted', fontsize = 15) # y-axis label with fontsize 15\n",
    "    plt.show()\n",
    "    i = i + 1 "
   ]
  },
  {
   "cell_type": "markdown",
   "metadata": {},
   "source": [
    "### Resultados out of the box\n",
    "Los resultados de los modelos out of the box nos dan 3 ganadores en los cuáles nos vamos a enfocar\n",
    "1. GradientBoostingClassifier\n",
    "2. RandomForestClassifier\n",
    "3. MLPClassifier (neural network)\n"
   ]
  },
  {
   "cell_type": "code",
   "execution_count": 208,
   "metadata": {},
   "outputs": [],
   "source": [
    "## para recopilar resultados\n",
    "log_cols=[\"Classifier\", \"Accuracy\"]\n",
    "log = pd.DataFrame(columns=log_cols)"
   ]
  },
  {
   "cell_type": "markdown",
   "metadata": {},
   "source": [
    "### Gradient Boosting Tunning\n",
    "Los valores out of the box son los siguientes:\n",
    "\n",
    "Accuracy: 82.5444%\n",
    "Kappa: 38.5661%\n",
    "\n",
    "El tunning debe mejorar los valores obtenidos."
   ]
  },
  {
   "cell_type": "markdown",
   "metadata": {},
   "source": [
    "#### Repetir \"out of the box\""
   ]
  },
  {
   "cell_type": "code",
   "execution_count": 138,
   "metadata": {
    "scrolled": true
   },
   "outputs": [
    {
     "name": "stdout",
     "output_type": "stream",
     "text": [
      "Accuracy of the GBM on test set: 0.825\n",
      "Accuracy: 82.5444%\n",
      "Kappa: 38.5661%\n",
      "              precision    recall  f1-score   support\n",
      "\n",
      "           0       0.84      0.95      0.90      7037\n",
      "           1       0.69      0.37      0.48      1963\n",
      "\n",
      "    accuracy                           0.83      9000\n",
      "   macro avg       0.76      0.66      0.69      9000\n",
      "weighted avg       0.81      0.83      0.80      9000\n",
      "\n"
     ]
    }
   ],
   "source": [
    "from sklearn.metrics import classification_report\n",
    "from sklearn.model_selection import GridSearchCV\n",
    "\n",
    "modelGBT_otb = GradientBoostingClassifier()\n",
    "modelGBT_otb.fit(X_train,y_train.values.ravel())\n",
    "predictors=list(X_train)\n",
    "\n",
    "print('Accuracy of the GBM on test set: {:.3f}'.format(modelGBT_otb.score(X_test, y_test.values.ravel())))\n",
    "\n",
    "pred=modelGBT_otb.predict(X_test)\n",
    "acc = accuracy_score(y_test.values.ravel(), pred)\n",
    "print(\"Accuracy: {:.4%}\".format(acc))\n",
    "    \n",
    "kap = cohen_kappa_score(y_test.values.ravel(), pred)\n",
    "print(\"Kappa: {:.4%}\".format(kap))\n",
    "\n",
    "print(classification_report(y_test.values.ravel(), pred))"
   ]
  },
  {
   "cell_type": "code",
   "execution_count": 209,
   "metadata": {},
   "outputs": [],
   "source": [
    "log_entry = pd.DataFrame([['GBM_otb', acc*100]], columns=log_cols)\n",
    "log = log.append(log_entry)"
   ]
  },
  {
   "cell_type": "code",
   "execution_count": 139,
   "metadata": {},
   "outputs": [
    {
     "data": {
      "text/plain": [
       "Text(0, 0.5, 'Feature Importance Score')"
      ]
     },
     "execution_count": 139,
     "metadata": {},
     "output_type": "execute_result"
    },
    {
     "data": {
      "image/png": "[encoded data removed]",
      "text/plain": [
       "<Figure size 432x288 with 1 Axes>"
      ]
     },
     "metadata": {},
     "output_type": "display_data"
    }
   ],
   "source": [
    "feat_imp = pd.Series(modelGBT_otb.feature_importances_, predictors).sort_values(ascending=False)\n",
    "feat_imp.plot(kind='bar', title='Importance of Features')\n",
    "plt.ylabel('Feature Importance Score')"
   ]
  },
  {
   "cell_type": "markdown",
   "metadata": {},
   "source": [
    "#### Tunning\n",
    "Se intentará mejorar el modelo con los siguientes parámetros: number of trees, tree depth & learning rate "
   ]
  },
  {
   "cell_type": "code",
   "execution_count": 141,
   "metadata": {},
   "outputs": [
    {
     "data": {
      "text/plain": [
       "GridSearchCV(cv=5, error_score='raise-deprecating',\n",
       "             estimator=GradientBoostingClassifier(criterion='friedman_mse',\n",
       "                                                  init=None, learning_rate=0.1,\n",
       "                                                  loss='deviance', max_depth=3,\n",
       "                                                  max_features=None,\n",
       "                                                  max_leaf_nodes=None,\n",
       "                                                  min_impurity_decrease=0.0,\n",
       "                                                  min_impurity_split=None,\n",
       "                                                  min_samples_leaf=1,\n",
       "                                                  min_samples_split=2,\n",
       "                                                  min_weight_fraction_leaf=0.0,\n",
       "                                                  n_estimators=100,\n",
       "                                                  n_iter_no_change=None,\n",
       "                                                  presort='auto',\n",
       "                                                  random_state=None,\n",
       "                                                  subsample=1.0, tol=0.0001,\n",
       "                                                  validation_fraction=0.1,\n",
       "                                                  verbose=0, warm_start=False),\n",
       "             iid=False, n_jobs=4,\n",
       "             param_grid={'learning_rate': [0.1, 0.05, 0.01],\n",
       "                         'n_estimators': [100, 500, 1000, 1500]},\n",
       "             pre_dispatch='2*n_jobs', refit=True, return_train_score=False,\n",
       "             scoring='accuracy', verbose=0)"
      ]
     },
     "execution_count": 141,
     "metadata": {},
     "output_type": "execute_result"
    }
   ],
   "source": [
    "p_test3 = {'learning_rate':[0.1,0.05,0.01], 'n_estimators':[100,500,1000,1500]}\n",
    "\n",
    "tuning = GridSearchCV(estimator =GradientBoostingClassifier(), param_grid = p_test3, scoring='accuracy',n_jobs=4,iid=False, cv=5)\n",
    "tuning.fit(X_train,y_train.values.ravel())\n"
   ]
  },
  {
   "cell_type": "code",
   "execution_count": 148,
   "metadata": {},
   "outputs": [
    {
     "data": {
      "text/plain": [
       "(    mean_fit_time  std_fit_time  mean_score_time  std_score_time  \\\n",
       " 0        2.859046      0.108714         0.029293        0.003062   \n",
       " 1       16.563211      0.363361         0.058549        0.006054   \n",
       " 2       31.909226      0.684549         0.107520        0.014140   \n",
       " 3       44.743842      0.573714         0.137534        0.003966   \n",
       " 4        3.172996      0.083431         0.027212        0.003558   \n",
       " 5       15.246310      0.234637         0.064141        0.004642   \n",
       " 6       29.724836      0.224081         0.090737        0.010640   \n",
       " 7       44.271110      0.631324         0.131367        0.012414   \n",
       " 8        3.045206      0.071075         0.030326        0.004494   \n",
       " 9       15.499455      0.243552         0.066016        0.004468   \n",
       " 10      30.763506      0.334913         0.111582        0.006018   \n",
       " 11      42.709484      5.449123         0.137791        0.031411   \n",
       " \n",
       "    param_learning_rate param_n_estimators  \\\n",
       " 0                  0.1                100   \n",
       " 1                  0.1                500   \n",
       " 2                  0.1               1000   \n",
       " 3                  0.1               1500   \n",
       " 4                 0.05                100   \n",
       " 5                 0.05                500   \n",
       " 6                 0.05               1000   \n",
       " 7                 0.05               1500   \n",
       " 8                 0.01                100   \n",
       " 9                 0.01                500   \n",
       " 10                0.01               1000   \n",
       " 11                0.01               1500   \n",
       " \n",
       "                                            params  split0_test_score  \\\n",
       " 0     {'learning_rate': 0.1, 'n_estimators': 100}           0.812426   \n",
       " 1     {'learning_rate': 0.1, 'n_estimators': 500}           0.808141   \n",
       " 2    {'learning_rate': 0.1, 'n_estimators': 1000}           0.805999   \n",
       " 3    {'learning_rate': 0.1, 'n_estimators': 1500}           0.804094   \n",
       " 4    {'learning_rate': 0.05, 'n_estimators': 100}           0.813140   \n",
       " 5    {'learning_rate': 0.05, 'n_estimators': 500}           0.810521   \n",
       " 6   {'learning_rate': 0.05, 'n_estimators': 1000}           0.810283   \n",
       " 7   {'learning_rate': 0.05, 'n_estimators': 1500}           0.808379   \n",
       " 8    {'learning_rate': 0.01, 'n_estimators': 100}           0.813616   \n",
       " 9    {'learning_rate': 0.01, 'n_estimators': 500}           0.814092   \n",
       " 10  {'learning_rate': 0.01, 'n_estimators': 1000}           0.811950   \n",
       " 11  {'learning_rate': 0.01, 'n_estimators': 1500}           0.810283   \n",
       " \n",
       "     split1_test_score  split2_test_score  split3_test_score  \\\n",
       " 0            0.817662           0.819048           0.813289   \n",
       " 1            0.812664           0.817619           0.811860   \n",
       " 2            0.808617           0.813810           0.808526   \n",
       " 3            0.805046           0.810714           0.804715   \n",
       " 4            0.819091           0.820000           0.814003   \n",
       " 5            0.815758           0.818571           0.811622   \n",
       " 6            0.811473           0.817381           0.811146   \n",
       " 7            0.811473           0.816190           0.810431   \n",
       " 8            0.818139           0.819762           0.815670   \n",
       " 9            0.818853           0.820000           0.814241   \n",
       " 10           0.818853           0.819048           0.814003   \n",
       " 11           0.817900           0.818810           0.813527   \n",
       " \n",
       "     split4_test_score  mean_test_score  std_test_score  rank_test_score  \n",
       " 0            0.824006         0.817286        0.004195                4  \n",
       " 1            0.820195         0.814096        0.004292                9  \n",
       " 2            0.815194         0.810429        0.003483               11  \n",
       " 3            0.815670         0.808048        0.004494               12  \n",
       " 4            0.822577         0.817762        0.003618                2  \n",
       " 5            0.824244         0.816143        0.004974                7  \n",
       " 6            0.822815         0.814620        0.004807                8  \n",
       " 7            0.820195         0.813334        0.004282               10  \n",
       " 8            0.817814         0.817000        0.002136                5  \n",
       " 9            0.823291         0.818095        0.003524                1  \n",
       " 10           0.823768         0.817524        0.004160                3  \n",
       " 11           0.824006         0.816905        0.004697                6  ,\n",
       " {'learning_rate': 0.01, 'n_estimators': 500},\n",
       " 0.8180954565813752)"
      ]
     },
     "execution_count": 148,
     "metadata": {},
     "output_type": "execute_result"
    }
   ],
   "source": [
    "pd.DataFrame(tuning.cv_results_), tuning.best_params_, tuning.best_score_"
   ]
  },
  {
   "cell_type": "markdown",
   "metadata": {},
   "source": [
    "Paradójicamente, el tunning dio un accuracy peor que el out of the box. Sin embargo, ya tenemos los parámetros de learning_rate en 0.01 y n_estimators en 500. Ahora se tuneará max_depth con estos valores."
   ]
  },
  {
   "cell_type": "markdown",
   "metadata": {},
   "source": [
    "#### Tunning Max_depth"
   ]
  },
  {
   "cell_type": "code",
   "execution_count": 149,
   "metadata": {},
   "outputs": [
    {
     "data": {
      "text/plain": [
       "GridSearchCV(cv=5, error_score='raise-deprecating',\n",
       "             estimator=GradientBoostingClassifier(criterion='friedman_mse',\n",
       "                                                  init=None, learning_rate=0.01,\n",
       "                                                  loss='deviance', max_depth=3,\n",
       "                                                  max_features=None,\n",
       "                                                  max_leaf_nodes=None,\n",
       "                                                  min_impurity_decrease=0.0,\n",
       "                                                  min_impurity_split=None,\n",
       "                                                  min_samples_leaf=1,\n",
       "                                                  min_samples_split=2,\n",
       "                                                  min_weight_fraction_leaf=0.0,\n",
       "                                                  n_estimators=500,\n",
       "                                                  n_iter_no_change=None,\n",
       "                                                  presort='auto',\n",
       "                                                  random_state=None,\n",
       "                                                  subsample=1.0, tol=0.0001,\n",
       "                                                  validation_fraction=0.1,\n",
       "                                                  verbose=0, warm_start=False),\n",
       "             iid=False, n_jobs=4, param_grid={'max_depth': [2, 3, 4, 5, 6, 7]},\n",
       "             pre_dispatch='2*n_jobs', refit=True, return_train_score=False,\n",
       "             scoring='accuracy', verbose=0)"
      ]
     },
     "execution_count": 149,
     "metadata": {},
     "output_type": "execute_result"
    }
   ],
   "source": [
    "p_test2 = {'max_depth':[2,3,4,5,6,7] }\n",
    "tuning = GridSearchCV(estimator =GradientBoostingClassifier(learning_rate=0.01,n_estimators=500), param_grid = p_test2, scoring='accuracy',n_jobs=4,iid=False, cv=5)\n",
    "tuning.fit(X_train,y_train.values.ravel())"
   ]
  },
  {
   "cell_type": "code",
   "execution_count": 150,
   "metadata": {},
   "outputs": [
    {
     "data": {
      "text/plain": [
       "(   mean_fit_time  std_fit_time  mean_score_time  std_score_time  \\\n",
       " 0       9.480165      0.303354         0.054119        0.004632   \n",
       " 1      16.652151      0.240881         0.071253        0.004906   \n",
       " 2      22.741190      1.798132         0.063853        0.005037   \n",
       " 3      29.414047      0.863491         0.086982        0.010925   \n",
       " 4      42.913733      2.443499         0.099541        0.006303   \n",
       " 5      59.729320      8.810248         0.108516        0.018498   \n",
       " \n",
       "   param_max_depth            params  split0_test_score  split1_test_score  \\\n",
       " 0               2  {'max_depth': 2}           0.813378           0.818377   \n",
       " 1               3  {'max_depth': 3}           0.814092           0.818853   \n",
       " 2               4  {'max_depth': 4}           0.815282           0.816472   \n",
       " 3               5  {'max_depth': 5}           0.812188           0.814568   \n",
       " 4               6  {'max_depth': 6}           0.813854           0.810997   \n",
       " 5               7  {'max_depth': 7}           0.813616           0.812188   \n",
       " \n",
       "    split2_test_score  split3_test_score  split4_test_score  mean_test_score  \\\n",
       " 0           0.823333           0.814956           0.824482         0.818905   \n",
       " 1           0.820000           0.814241           0.823291         0.818095   \n",
       " 2           0.818095           0.814956           0.823053         0.817572   \n",
       " 3           0.819286           0.814241           0.822577         0.816572   \n",
       " 4           0.817143           0.814956           0.820910         0.815572   \n",
       " 5           0.817857           0.813289           0.819957         0.815381   \n",
       " \n",
       "    std_test_score  rank_test_score  \n",
       " 0        0.004408                1  \n",
       " 1        0.003524                2  \n",
       " 2        0.002953                3  \n",
       " 3        0.003797                4  \n",
       " 4        0.003323                5  \n",
       " 5        0.002992                6  , {'max_depth': 2}, 0.818905127791296)"
      ]
     },
     "execution_count": 150,
     "metadata": {},
     "output_type": "execute_result"
    }
   ],
   "source": [
    "pd.DataFrame(tuning.cv_results_), tuning.best_params_, tuning.best_score_"
   ]
  },
  {
   "cell_type": "code",
   "execution_count": 210,
   "metadata": {},
   "outputs": [],
   "source": [
    "log_entry = pd.DataFrame([['GBT', tuning.best_score_*100]], columns=log_cols)\n",
    "log = log.append(log_entry)"
   ]
  },
  {
   "cell_type": "markdown",
   "metadata": {},
   "source": [
    "Después del tunning el mejor valor para max_depth fue 2. \n",
    "\n",
    "El accuracy final fue de 81.9%, el cuál está por debajo del 82.5% obtenido en el out of the box\n",
    "\n",
    "Por tanto, es necesario entender cuáles fueron los parámetros utilizados por default."
   ]
  },
  {
   "cell_type": "code",
   "execution_count": 151,
   "metadata": {},
   "outputs": [
    {
     "data": {
      "text/plain": [
       "GradientBoostingClassifier(criterion='friedman_mse', init=None,\n",
       "                           learning_rate=0.1, loss='deviance', max_depth=3,\n",
       "                           max_features=None, max_leaf_nodes=None,\n",
       "                           min_impurity_decrease=0.0, min_impurity_split=None,\n",
       "                           min_samples_leaf=1, min_samples_split=2,\n",
       "                           min_weight_fraction_leaf=0.0, n_estimators=100,\n",
       "                           n_iter_no_change=None, presort='auto',\n",
       "                           random_state=None, subsample=1.0, tol=0.0001,\n",
       "                           validation_fraction=0.1, verbose=0,\n",
       "                           warm_start=False)"
      ]
     },
     "execution_count": 151,
     "metadata": {},
     "output_type": "execute_result"
    }
   ],
   "source": [
    "modelGBT_otb"
   ]
  },
  {
   "cell_type": "markdown",
   "metadata": {},
   "source": [
    "##### Conclusión:\n",
    "Los mejores parámetros para GBT son learning_rate = 0.1, max_depth = 3 y n_estimators = 100, el resto de los parámetros en default y con eso obtenemos un Accuracy = 82.5%"
   ]
  },
  {
   "cell_type": "markdown",
   "metadata": {},
   "source": [
    "### RandomForestClassifier Tunning\n",
    "Los valores out of the box son los siguientes:\n",
    "\n",
    "Accuracy: 80.9556%\n",
    "Kappa: 32.2422%\n",
    "\n",
    "El tunning debe mejorar los valores obtenidos.\n",
    "\n",
    "#### Repetir \"out of the box\""
   ]
  },
  {
   "cell_type": "code",
   "execution_count": 165,
   "metadata": {},
   "outputs": [
    {
     "name": "stdout",
     "output_type": "stream",
     "text": [
      "Accuracy of the RandomForest on test set: 0.808\n",
      "Accuracy: 80.8222%\n",
      "Kappa: 31.6154%\n",
      "              precision    recall  f1-score   support\n",
      "\n",
      "           0       0.83      0.95      0.89      7037\n",
      "           1       0.62      0.31      0.42      1963\n",
      "\n",
      "    accuracy                           0.81      9000\n",
      "   macro avg       0.73      0.63      0.65      9000\n",
      "weighted avg       0.79      0.81      0.78      9000\n",
      "\n"
     ]
    }
   ],
   "source": [
    "modelRFC_otb = RandomForestClassifier()\n",
    "modelRFC_otb.fit(X_train,y_train.values.ravel())\n",
    "predictors=list(X_train)\n",
    "\n",
    "print('Accuracy of the RandomForest on test set: {:.3f}'.format(modelRFC_otb.score(X_test, y_test.values.ravel())))\n",
    "\n",
    "pred=modelRFC_otb.predict(X_test)\n",
    "acc = accuracy_score(y_test.values.ravel(), pred)\n",
    "print(\"Accuracy: {:.4%}\".format(acc))\n",
    "    \n",
    "kap = cohen_kappa_score(y_test.values.ravel(), pred)\n",
    "print(\"Kappa: {:.4%}\".format(kap))\n",
    "\n",
    "print(classification_report(y_test.values.ravel(), pred))"
   ]
  },
  {
   "cell_type": "code",
   "execution_count": 211,
   "metadata": {},
   "outputs": [],
   "source": [
    "log_entry = pd.DataFrame([['RFC_otb', acc*100]], columns=log_cols)\n",
    "log = log.append(log_entry)"
   ]
  },
  {
   "cell_type": "code",
   "execution_count": 168,
   "metadata": {},
   "outputs": [
    {
     "data": {
      "text/plain": [
       "Text(0, 0.5, 'Feature Importance Score')"
      ]
     },
     "execution_count": 168,
     "metadata": {},
     "output_type": "execute_result"
    },
    {
     "data": {
      "image/png": "[encoded data removed]",
      "text/plain": [
       "<Figure size 432x288 with 1 Axes>"
      ]
     },
     "metadata": {},
     "output_type": "display_data"
    }
   ],
   "source": [
    "feat_imp = pd.Series(modelRFC_otb.feature_importances_, predictors).sort_values(ascending=False)\n",
    "feat_imp.plot(kind='bar', title='RF Importance of Features')\n",
    "plt.ylabel('Feature Importance Score')"
   ]
  },
  {
   "cell_type": "markdown",
   "metadata": {},
   "source": [
    "#### Tunning\n",
    "Se intentará mejorar el modelo con los siguientes parámetros: tree depth & max_features"
   ]
  },
  {
   "cell_type": "code",
   "execution_count": 176,
   "metadata": {},
   "outputs": [
    {
     "data": {
      "text/plain": [
       "GridSearchCV(cv=5, error_score='raise-deprecating',\n",
       "             estimator=RandomForestClassifier(bootstrap=True, class_weight=None,\n",
       "                                              criterion='gini', max_depth=None,\n",
       "                                              max_features='auto',\n",
       "                                              max_leaf_nodes=None,\n",
       "                                              min_impurity_decrease=0.0,\n",
       "                                              min_impurity_split=None,\n",
       "                                              min_samples_leaf=1,\n",
       "                                              min_samples_split=2,\n",
       "                                              min_weight_fraction_leaf=0.0,\n",
       "                                              n_estimators='warn', n_jobs=None,\n",
       "                                              oob_score=False,\n",
       "                                              random_state=None, verbose=0,\n",
       "                                              warm_start=False),\n",
       "             iid=False, n_jobs=4,\n",
       "             param_grid={'max_depth': [2, 3, 4, 5, 6, 7],\n",
       "                         'max_features': [5, 8, 11, 15, 20]},\n",
       "             pre_dispatch='2*n_jobs', refit=True, return_train_score=False,\n",
       "             scoring='accuracy', verbose=0)"
      ]
     },
     "execution_count": 176,
     "metadata": {},
     "output_type": "execute_result"
    }
   ],
   "source": [
    "# son 23 columnas, max_features ideal value debería ser sqrt(columnas). Este valor es 5. Veremos cuál queda mejor\n",
    "p_test3 = {'max_features':[5,8,11,15,20], 'max_depth':[2,3,4,5,6,7]}\n",
    "tuning = GridSearchCV(estimator =RandomForestClassifier(), param_grid = p_test3, scoring='accuracy',n_jobs=4,iid=False, cv=5)\n",
    "tuning.fit(X_train,y_train.values.ravel())"
   ]
  },
  {
   "cell_type": "code",
   "execution_count": 177,
   "metadata": {},
   "outputs": [
    {
     "data": {
      "text/plain": [
       "(    mean_fit_time  std_fit_time  mean_score_time  std_score_time  \\\n",
       " 0        0.130345      0.009810         0.018104        0.003041   \n",
       " 1        0.172020      0.010792         0.016796        0.004034   \n",
       " 2        0.213135      0.023174         0.015164        0.002051   \n",
       " 3        0.250183      0.013809         0.018196        0.002015   \n",
       " 4        0.319625      0.020295         0.018020        0.003774   \n",
       " 5        0.184161      0.015538         0.018305        0.004030   \n",
       " 6        0.218081      0.016371         0.015712        0.000544   \n",
       " 7        0.271392      0.017145         0.020980        0.004205   \n",
       " 8        0.357409      0.014363         0.019006        0.004143   \n",
       " 9        0.461404      0.028591         0.022515        0.005029   \n",
       " 10       0.201357      0.032932         0.017296        0.003785   \n",
       " 11       0.273345      0.013079         0.016303        0.002433   \n",
       " 12       0.355224      0.026570         0.015763        0.000675   \n",
       " 13       0.439882      0.006254         0.019946        0.003868   \n",
       " 14       0.599638      0.034838         0.016338        0.001351   \n",
       " 15       0.235956      0.019786         0.015940        0.000891   \n",
       " 16       0.300607      0.006231         0.021598        0.003042   \n",
       " 17       0.431645      0.015352         0.022468        0.003175   \n",
       " 18       0.539636      0.012258         0.018433        0.004869   \n",
       " 19       0.696304      0.026030         0.021085        0.004982   \n",
       " 20       0.272317      0.012288         0.021306        0.005060   \n",
       " 21       0.397583      0.028799         0.019346        0.003854   \n",
       " 22       0.540245      0.032035         0.018961        0.002750   \n",
       " 23       0.611456      0.030618         0.022688        0.004351   \n",
       " 24       0.845693      0.036429         0.017505        0.000466   \n",
       " 25       0.299561      0.019715         0.021547        0.004070   \n",
       " 26       0.422624      0.019485         0.019651        0.004259   \n",
       " 27       0.544291      0.030944         0.022697        0.004840   \n",
       " 28       0.679913      0.023297         0.016938        0.000630   \n",
       " 29       0.889499      0.058124         0.018528        0.003835   \n",
       " \n",
       "    param_max_depth param_max_features                                params  \\\n",
       " 0                2                  5   {'max_depth': 2, 'max_features': 5}   \n",
       " 1                2                  8   {'max_depth': 2, 'max_features': 8}   \n",
       " 2                2                 11  {'max_depth': 2, 'max_features': 11}   \n",
       " 3                2                 15  {'max_depth': 2, 'max_features': 15}   \n",
       " 4                2                 20  {'max_depth': 2, 'max_features': 20}   \n",
       " 5                3                  5   {'max_depth': 3, 'max_features': 5}   \n",
       " 6                3                  8   {'max_depth': 3, 'max_features': 8}   \n",
       " 7                3                 11  {'max_depth': 3, 'max_features': 11}   \n",
       " 8                3                 15  {'max_depth': 3, 'max_features': 15}   \n",
       " 9                3                 20  {'max_depth': 3, 'max_features': 20}   \n",
       " 10               4                  5   {'max_depth': 4, 'max_features': 5}   \n",
       " 11               4                  8   {'max_depth': 4, 'max_features': 8}   \n",
       " 12               4                 11  {'max_depth': 4, 'max_features': 11}   \n",
       " 13               4                 15  {'max_depth': 4, 'max_features': 15}   \n",
       " 14               4                 20  {'max_depth': 4, 'max_features': 20}   \n",
       " 15               5                  5   {'max_depth': 5, 'max_features': 5}   \n",
       " 16               5                  8   {'max_depth': 5, 'max_features': 8}   \n",
       " 17               5                 11  {'max_depth': 5, 'max_features': 11}   \n",
       " 18               5                 15  {'max_depth': 5, 'max_features': 15}   \n",
       " 19               5                 20  {'max_depth': 5, 'max_features': 20}   \n",
       " 20               6                  5   {'max_depth': 6, 'max_features': 5}   \n",
       " 21               6                  8   {'max_depth': 6, 'max_features': 8}   \n",
       " 22               6                 11  {'max_depth': 6, 'max_features': 11}   \n",
       " 23               6                 15  {'max_depth': 6, 'max_features': 15}   \n",
       " 24               6                 20  {'max_depth': 6, 'max_features': 20}   \n",
       " 25               7                  5   {'max_depth': 7, 'max_features': 5}   \n",
       " 26               7                  8   {'max_depth': 7, 'max_features': 8}   \n",
       " 27               7                 11  {'max_depth': 7, 'max_features': 11}   \n",
       " 28               7                 15  {'max_depth': 7, 'max_features': 15}   \n",
       " 29               7                 20  {'max_depth': 7, 'max_features': 20}   \n",
       " \n",
       "     split0_test_score  split1_test_score  split2_test_score  \\\n",
       " 0            0.802904           0.801476           0.801667   \n",
       " 1            0.808141           0.817186           0.811190   \n",
       " 2            0.804808           0.807665           0.808095   \n",
       " 3            0.812902           0.818139           0.820476   \n",
       " 4            0.811950           0.818139           0.820238   \n",
       " 5            0.806951           0.809569           0.817619   \n",
       " 6            0.814092           0.816234           0.820952   \n",
       " 7            0.812664           0.818853           0.819048   \n",
       " 8            0.813140           0.818853           0.820952   \n",
       " 9            0.811711           0.819805           0.819524   \n",
       " 10           0.808379           0.805761           0.810476   \n",
       " 11           0.813140           0.817662           0.821429   \n",
       " 12           0.812664           0.815996           0.822143   \n",
       " 13           0.813378           0.817186           0.820000   \n",
       " 14           0.815758           0.818615           0.820952   \n",
       " 15           0.816472           0.812426           0.820714   \n",
       " 16           0.815044           0.817900           0.820476   \n",
       " 17           0.816948           0.815996           0.820476   \n",
       " 18           0.812902           0.819567           0.822143   \n",
       " 19           0.813140           0.817900           0.819524   \n",
       " 20           0.815044           0.815282           0.809048   \n",
       " 21           0.812664           0.814330           0.820238   \n",
       " 22           0.815758           0.815044           0.818571   \n",
       " 23           0.811473           0.815996           0.817381   \n",
       " 24           0.814568           0.816234           0.820476   \n",
       " 25           0.811950           0.813616           0.813333   \n",
       " 26           0.811235           0.816948           0.817857   \n",
       " 27           0.816234           0.811711           0.818571   \n",
       " 28           0.814092           0.818139           0.816905   \n",
       " 29           0.811473           0.814806           0.821905   \n",
       " \n",
       "     split3_test_score  split4_test_score  mean_test_score  std_test_score  \\\n",
       " 0            0.804477           0.801858         0.802476        0.001116   \n",
       " 1            0.815909           0.813765         0.813238        0.003261   \n",
       " 2            0.815194           0.824482         0.812049        0.007096   \n",
       " 3            0.816147           0.823053         0.818143        0.003493   \n",
       " 4            0.816147           0.823529         0.818000        0.003890   \n",
       " 5            0.806621           0.808526         0.809857        0.004026   \n",
       " 6            0.814480           0.823529         0.817858        0.003741   \n",
       " 7            0.815194           0.824006         0.817953        0.003853   \n",
       " 8            0.814718           0.823529         0.818238        0.003850   \n",
       " 9            0.813527           0.824482         0.817810        0.004625   \n",
       " 10           0.809478           0.824244         0.811668        0.006482   \n",
       " 11           0.814956           0.824006         0.818238        0.004014   \n",
       " 12           0.814956           0.824006         0.817953        0.004358   \n",
       " 13           0.814956           0.822339         0.817572        0.003262   \n",
       " 14           0.814003           0.824958         0.818857        0.003869   \n",
       " 15           0.812574           0.815432         0.815524        0.003038   \n",
       " 16           0.815194           0.824958         0.818715        0.003705   \n",
       " 17           0.813765           0.822577         0.817953        0.003166   \n",
       " 18           0.815670           0.824720         0.819000        0.004271   \n",
       " 19           0.814480           0.822101         0.817429        0.003272   \n",
       " 20           0.812813           0.822815         0.815000        0.004503   \n",
       " 21           0.813765           0.826149         0.817429        0.005092   \n",
       " 22           0.814718           0.822577         0.817334        0.002953   \n",
       " 23           0.814480           0.819481         0.815762        0.002703   \n",
       " 24           0.812336           0.817814         0.816286        0.002773   \n",
       " 25           0.811146           0.824482         0.814905        0.004873   \n",
       " 26           0.812574           0.819481         0.815619        0.003168   \n",
       " 27           0.812336           0.819005         0.815572        0.003053   \n",
       " 28           0.809955           0.821148         0.816048        0.003797   \n",
       " 29           0.815194           0.818766         0.816429        0.003582   \n",
       " \n",
       "     rank_test_score  \n",
       " 0                30  \n",
       " 1                26  \n",
       " 2                27  \n",
       " 3                 6  \n",
       " 4                 7  \n",
       " 5                29  \n",
       " 6                11  \n",
       " 7                 9  \n",
       " 8                 5  \n",
       " 9                12  \n",
       " 10               28  \n",
       " 11                4  \n",
       " 12                8  \n",
       " 13               13  \n",
       " 14                2  \n",
       " 15               23  \n",
       " 16                3  \n",
       " 17               10  \n",
       " 18                1  \n",
       " 19               15  \n",
       " 20               24  \n",
       " 21               14  \n",
       " 22               16  \n",
       " 23               20  \n",
       " 24               18  \n",
       " 25               25  \n",
       " 26               21  \n",
       " 27               22  \n",
       " 28               19  \n",
       " 29               17  ,\n",
       " {'max_depth': 5, 'max_features': 15},\n",
       " 0.8190003772432997)"
      ]
     },
     "execution_count": 177,
     "metadata": {},
     "output_type": "execute_result"
    }
   ],
   "source": [
    "pd.DataFrame(tuning.cv_results_), tuning.best_params_, tuning.best_score_"
   ]
  },
  {
   "cell_type": "code",
   "execution_count": 212,
   "metadata": {},
   "outputs": [],
   "source": [
    "log_entry = pd.DataFrame([['RFC_tunning', tuning.best_score_*100]], columns=log_cols)\n",
    "log = log.append(log_entry)"
   ]
  },
  {
   "cell_type": "markdown",
   "metadata": {},
   "source": [
    "#### Conclusion\n",
    "El accuracy final fue de 81.9%, el cuál está por encima del 80.8% obtenido en el out of the box. Por tanto, después del tunning el mejor valor para max_depth fue 5 y para max_features = 15. \n",
    "\n",
    "\n"
   ]
  },
  {
   "cell_type": "markdown",
   "metadata": {},
   "source": [
    "#### Ejecución con parámetros tuneados para ver feature importance"
   ]
  },
  {
   "cell_type": "code",
   "execution_count": 178,
   "metadata": {},
   "outputs": [
    {
     "name": "stdout",
     "output_type": "stream",
     "text": [
      "Accuracy of the RandomForest on test set: 0.827\n",
      "Accuracy: 82.6667%\n",
      "Kappa: 37.8313%\n",
      "              precision    recall  f1-score   support\n",
      "\n",
      "           0       0.84      0.96      0.90      7037\n",
      "           1       0.71      0.35      0.47      1963\n",
      "\n",
      "    accuracy                           0.83      9000\n",
      "   macro avg       0.77      0.65      0.68      9000\n",
      "weighted avg       0.81      0.83      0.80      9000\n",
      "\n"
     ]
    }
   ],
   "source": [
    "modelRFC = RandomForestClassifier(max_depth=5, max_features = 15)\n",
    "modelRFC.fit(X_train,y_train.values.ravel())\n",
    "predictors=list(X_train)\n",
    "\n",
    "print('Accuracy of the RandomForest on test set: {:.3f}'.format(modelRFC.score(X_test, y_test.values.ravel())))\n",
    "\n",
    "pred=modelRFC.predict(X_test)\n",
    "acc = accuracy_score(y_test.values.ravel(), pred)\n",
    "print(\"Accuracy: {:.4%}\".format(acc))\n",
    "    \n",
    "kap = cohen_kappa_score(y_test.values.ravel(), pred)\n",
    "print(\"Kappa: {:.4%}\".format(kap))\n",
    "\n",
    "print(classification_report(y_test.values.ravel(), pred))"
   ]
  },
  {
   "cell_type": "code",
   "execution_count": 213,
   "metadata": {},
   "outputs": [],
   "source": [
    "log_entry = pd.DataFrame([['RFC', acc*100]], columns=log_cols)\n",
    "log = log.append(log_entry)"
   ]
  },
  {
   "cell_type": "code",
   "execution_count": 179,
   "metadata": {},
   "outputs": [
    {
     "data": {
      "text/plain": [
       "Text(0, 0.5, 'Feature Importance Score')"
      ]
     },
     "execution_count": 179,
     "metadata": {},
     "output_type": "execute_result"
    },
    {
     "data": {
      "image/png": "[encoded data removed]",
      "text/plain": [
       "<Figure size 432x288 with 1 Axes>"
      ]
     },
     "metadata": {},
     "output_type": "display_data"
    }
   ],
   "source": [
    "feat_imp = pd.Series(modelRFC.feature_importances_, predictors).sort_values(ascending=False)\n",
    "feat_imp.plot(kind='bar', title='RF Importance of Features')\n",
    "plt.ylabel('Feature Importance Score')"
   ]
  },
  {
   "cell_type": "markdown",
   "metadata": {},
   "source": [
    "### MLPClassifier (Neural Network) Tunning\n",
    "\n",
    "Los valores obtenidos out of the box fueron \n",
    "\n",
    "Accuracy: 81.4556%\n",
    "Kappa: 34.6763%\n",
    "\n",
    "El tunning debe mejorar esos valores\n",
    "\n",
    "#### Repetir Out of the box\n"
   ]
  },
  {
   "cell_type": "code",
   "execution_count": 186,
   "metadata": {},
   "outputs": [
    {
     "name": "stderr",
     "output_type": "stream",
     "text": [
      "C:\\Users\\rramirez\\AppData\\Local\\Continuum\\anaconda3\\lib\\site-packages\\sklearn\\neural_network\\multilayer_perceptron.py:566: ConvergenceWarning: Stochastic Optimizer: Maximum iterations (200) reached and the optimization hasn't converged yet.\n",
      "  % self.max_iter, ConvergenceWarning)\n"
     ]
    },
    {
     "name": "stdout",
     "output_type": "stream",
     "text": [
      "Accuracy of the MLP (Neural Network) on test set: 0.818\n",
      "Accuracy: 81.8111%\n",
      "Kappa: 35.0400%\n",
      "              precision    recall  f1-score   support\n",
      "\n",
      "           0       0.84      0.95      0.89      7037\n",
      "           1       0.66      0.33      0.45      1963\n",
      "\n",
      "    accuracy                           0.82      9000\n",
      "   macro avg       0.75      0.64      0.67      9000\n",
      "weighted avg       0.80      0.82      0.79      9000\n",
      "\n"
     ]
    }
   ],
   "source": [
    "modelMLP_otb = MLPClassifier()\n",
    "modelMLP_otb.fit(X_train,y_train.values.ravel())\n",
    "predictors=list(X_train)\n",
    "\n",
    "print('Accuracy of the MLP (Neural Network) on test set: {:.3f}'.format(modelMLP_otb.score(X_test, y_test.values.ravel())))\n",
    "\n",
    "pred=modelMLP_otb.predict(X_test)\n",
    "acc = accuracy_score(y_test.values.ravel(), pred)\n",
    "print(\"Accuracy: {:.4%}\".format(acc))\n",
    "    \n",
    "kap = cohen_kappa_score(y_test.values.ravel(), pred)\n",
    "print(\"Kappa: {:.4%}\".format(kap))\n",
    "\n",
    "print(classification_report(y_test.values.ravel(), pred))"
   ]
  },
  {
   "cell_type": "code",
   "execution_count": 214,
   "metadata": {},
   "outputs": [],
   "source": [
    "log_entry = pd.DataFrame([['MLP_otb', acc*100]], columns=log_cols)\n",
    "log = log.append(log_entry)"
   ]
  },
  {
   "cell_type": "markdown",
   "metadata": {},
   "source": [
    "#### Feature Importance\n",
    "La forma en que se guardan los coeficientes impide el entendimiento del peso de cada feature. Es algo intrínsico de Neural Networks. "
   ]
  },
  {
   "cell_type": "markdown",
   "metadata": {},
   "source": [
    "#### Tunning"
   ]
  },
  {
   "cell_type": "code",
   "execution_count": 200,
   "metadata": {},
   "outputs": [
    {
     "data": {
      "text/plain": [
       "GridSearchCV(cv=5, error_score='raise-deprecating',\n",
       "             estimator=MLPClassifier(activation='relu', alpha=0.0001,\n",
       "                                     batch_size='auto', beta_1=0.9,\n",
       "                                     beta_2=0.999, early_stopping=False,\n",
       "                                     epsilon=1e-08, hidden_layer_sizes=(100,),\n",
       "                                     learning_rate='constant',\n",
       "                                     learning_rate_init=0.001, max_iter=1000,\n",
       "                                     momentum=0.9, n_iter_no_change=10,\n",
       "                                     nesterovs_momentum=True, power_t=0.5,\n",
       "                                     random_st...\n",
       "                                     solver='adam', tol=0.0001,\n",
       "                                     validation_fraction=0.1, verbose=False,\n",
       "                                     warm_start=False),\n",
       "             iid=False, n_jobs=4,\n",
       "             param_grid={'activation': ['tanh', 'relu'],\n",
       "                         'alpha': [0.0001, 0.05],\n",
       "                         'hidden_layer_sizes': [(50, 50, 50), (50, 100, 50),\n",
       "                                                (100,)],\n",
       "                         'learning_rate': ['constant', 'adaptive'],\n",
       "                         'solver': ['sgd', 'adam']},\n",
       "             pre_dispatch='2*n_jobs', refit=True, return_train_score=False,\n",
       "             scoring='accuracy', verbose=0)"
      ]
     },
     "execution_count": 200,
     "metadata": {},
     "output_type": "execute_result"
    }
   ],
   "source": [
    "p_test3 = {\n",
    "    'hidden_layer_sizes': [(50,50,50), (50,100,50), (100,)],\n",
    "    'activation': ['tanh', 'relu'],\n",
    "    'solver': ['sgd', 'adam'],\n",
    "    'alpha': [0.0001, 0.05],\n",
    "    'learning_rate': ['constant','adaptive']}\n",
    "\n",
    "tuning = GridSearchCV(estimator =MLPClassifier(max_iter=1000), param_grid = p_test3, scoring='accuracy',n_jobs=4,iid=False, cv=5)\n",
    "tuning.fit(X_train,y_train.values.ravel())"
   ]
  },
  {
   "cell_type": "code",
   "execution_count": 201,
   "metadata": {},
   "outputs": [
    {
     "data": {
      "text/plain": [
       "(    mean_fit_time  std_fit_time  mean_score_time  std_score_time  \\\n",
       " 0       32.850251      6.981350         0.027900        0.003014   \n",
       " 1       56.451051     31.449225         0.028493        0.006775   \n",
       " 2       35.036036      3.936226         0.032079        0.008875   \n",
       " 3       85.135168      9.515119         0.031089        0.004660   \n",
       " 4       35.695933      6.642710         0.031282        0.004740   \n",
       " 5       77.706792     23.209925         0.031089        0.005131   \n",
       " 6       55.272273     19.539735         0.033665        0.006030   \n",
       " 7       71.368563     31.497425         0.032287        0.007326   \n",
       " 8       16.041899      1.745102         0.019528        0.000490   \n",
       " 9       31.668513     12.589395         0.031089        0.008988   \n",
       " 10      16.747585      1.882808         0.020330        0.001364   \n",
       " 11      23.771464      4.798829         0.020118        0.001164   \n",
       " 12      31.667576      3.921819         0.028299        0.006519   \n",
       " 13      40.539008     27.132990         0.025105        0.001162   \n",
       " 14      32.982553      6.077338         0.029892        0.005802   \n",
       " 15      31.736522     20.632570         0.024307        0.001195   \n",
       " 16      41.136177      8.403011         0.032690        0.006867   \n",
       " 17      63.635079     43.530861         0.037456        0.008299   \n",
       " 18      57.420323      8.528307         0.034270        0.006257   \n",
       " 19      70.704487     42.041070         0.040515        0.009750   \n",
       " 20      15.967358      1.016293         0.020763        0.001135   \n",
       " 21       8.936186      2.134403         0.026300        0.003369   \n",
       " 22      17.142735      1.414891         0.021319        0.001848   \n",
       " 23       8.087352      2.568612         0.023161        0.005166   \n",
       " 24      48.620673     19.263751         0.026109        0.004444   \n",
       " 25      41.295360     16.522057         0.031288        0.008033   \n",
       " 26      54.488051     11.154171         0.026699        0.004005   \n",
       " 27      33.832653     11.139298         0.034270        0.009651   \n",
       " 28      86.200831     40.484096         0.035481        0.006241   \n",
       " 29      50.398889     18.107249         0.038654        0.007804   \n",
       " 30     104.723808     49.320039         0.035785        0.002904   \n",
       " 31      55.680682     25.434490         0.038927        0.010403   \n",
       " 32      18.180693      3.242328         0.028748        0.002715   \n",
       " 33      16.440491      3.352534         0.024208        0.005951   \n",
       " 34      25.744000      1.993849         0.028921        0.002753   \n",
       " 35      18.268874      3.769557         0.027335        0.004977   \n",
       " 36      43.331943     12.146029         0.028567        0.003411   \n",
       " 37      30.970941     12.671806         0.041570        0.016042   \n",
       " 38      61.320399     15.865998         0.028412        0.004059   \n",
       " 39      37.371559     20.690561         0.055928        0.020505   \n",
       " 40      75.437440     23.329757         0.059551        0.056929   \n",
       " 41      67.551931     43.030208         0.083398        0.034787   \n",
       " 42      95.654696     48.506951         0.037255        0.002908   \n",
       " 43      81.707438     59.769972         0.094244        0.045319   \n",
       " 44      22.008065      4.016497         0.027097        0.004338   \n",
       " 45      10.885995      4.028220         0.034668        0.009501   \n",
       " 46      30.212300      2.830649         0.021133        0.004475   \n",
       " 47      11.433545      3.793852         0.021517        0.005221   \n",
       " \n",
       "    param_activation param_alpha param_hidden_layer_sizes param_learning_rate  \\\n",
       " 0              tanh      0.0001             (50, 50, 50)            constant   \n",
       " 1              tanh      0.0001             (50, 50, 50)            constant   \n",
       " 2              tanh      0.0001             (50, 50, 50)            adaptive   \n",
       " 3              tanh      0.0001             (50, 50, 50)            adaptive   \n",
       " 4              tanh      0.0001            (50, 100, 50)            constant   \n",
       " 5              tanh      0.0001            (50, 100, 50)            constant   \n",
       " 6              tanh      0.0001            (50, 100, 50)            adaptive   \n",
       " 7              tanh      0.0001            (50, 100, 50)            adaptive   \n",
       " 8              tanh      0.0001                   (100,)            constant   \n",
       " 9              tanh      0.0001                   (100,)            constant   \n",
       " 10             tanh      0.0001                   (100,)            adaptive   \n",
       " 11             tanh      0.0001                   (100,)            adaptive   \n",
       " 12             tanh        0.05             (50, 50, 50)            constant   \n",
       " 13             tanh        0.05             (50, 50, 50)            constant   \n",
       " 14             tanh        0.05             (50, 50, 50)            adaptive   \n",
       " 15             tanh        0.05             (50, 50, 50)            adaptive   \n",
       " 16             tanh        0.05            (50, 100, 50)            constant   \n",
       " 17             tanh        0.05            (50, 100, 50)            constant   \n",
       " 18             tanh        0.05            (50, 100, 50)            adaptive   \n",
       " 19             tanh        0.05            (50, 100, 50)            adaptive   \n",
       " 20             tanh        0.05                   (100,)            constant   \n",
       " 21             tanh        0.05                   (100,)            constant   \n",
       " 22             tanh        0.05                   (100,)            adaptive   \n",
       " 23             tanh        0.05                   (100,)            adaptive   \n",
       " 24             relu      0.0001             (50, 50, 50)            constant   \n",
       " 25             relu      0.0001             (50, 50, 50)            constant   \n",
       " 26             relu      0.0001             (50, 50, 50)            adaptive   \n",
       " 27             relu      0.0001             (50, 50, 50)            adaptive   \n",
       " 28             relu      0.0001            (50, 100, 50)            constant   \n",
       " 29             relu      0.0001            (50, 100, 50)            constant   \n",
       " 30             relu      0.0001            (50, 100, 50)            adaptive   \n",
       " 31             relu      0.0001            (50, 100, 50)            adaptive   \n",
       " 32             relu      0.0001                   (100,)            constant   \n",
       " 33             relu      0.0001                   (100,)            constant   \n",
       " 34             relu      0.0001                   (100,)            adaptive   \n",
       " 35             relu      0.0001                   (100,)            adaptive   \n",
       " 36             relu        0.05             (50, 50, 50)            constant   \n",
       " 37             relu        0.05             (50, 50, 50)            constant   \n",
       " 38             relu        0.05             (50, 50, 50)            adaptive   \n",
       " 39             relu        0.05             (50, 50, 50)            adaptive   \n",
       " 40             relu        0.05            (50, 100, 50)            constant   \n",
       " 41             relu        0.05            (50, 100, 50)            constant   \n",
       " 42             relu        0.05            (50, 100, 50)            adaptive   \n",
       " 43             relu        0.05            (50, 100, 50)            adaptive   \n",
       " 44             relu        0.05                   (100,)            constant   \n",
       " 45             relu        0.05                   (100,)            constant   \n",
       " 46             relu        0.05                   (100,)            adaptive   \n",
       " 47             relu        0.05                   (100,)            adaptive   \n",
       " \n",
       "    param_solver                                             params  \\\n",
       " 0           sgd  {'activation': 'tanh', 'alpha': 0.0001, 'hidde...   \n",
       " 1          adam  {'activation': 'tanh', 'alpha': 0.0001, 'hidde...   \n",
       " 2           sgd  {'activation': 'tanh', 'alpha': 0.0001, 'hidde...   \n",
       " 3          adam  {'activation': 'tanh', 'alpha': 0.0001, 'hidde...   \n",
       " 4           sgd  {'activation': 'tanh', 'alpha': 0.0001, 'hidde...   \n",
       " 5          adam  {'activation': 'tanh', 'alpha': 0.0001, 'hidde...   \n",
       " 6           sgd  {'activation': 'tanh', 'alpha': 0.0001, 'hidde...   \n",
       " 7          adam  {'activation': 'tanh', 'alpha': 0.0001, 'hidde...   \n",
       " 8           sgd  {'activation': 'tanh', 'alpha': 0.0001, 'hidde...   \n",
       " 9          adam  {'activation': 'tanh', 'alpha': 0.0001, 'hidde...   \n",
       " 10          sgd  {'activation': 'tanh', 'alpha': 0.0001, 'hidde...   \n",
       " 11         adam  {'activation': 'tanh', 'alpha': 0.0001, 'hidde...   \n",
       " 12          sgd  {'activation': 'tanh', 'alpha': 0.05, 'hidden_...   \n",
       " 13         adam  {'activation': 'tanh', 'alpha': 0.05, 'hidden_...   \n",
       " 14          sgd  {'activation': 'tanh', 'alpha': 0.05, 'hidden_...   \n",
       " 15         adam  {'activation': 'tanh', 'alpha': 0.05, 'hidden_...   \n",
       " 16          sgd  {'activation': 'tanh', 'alpha': 0.05, 'hidden_...   \n",
       " 17         adam  {'activation': 'tanh', 'alpha': 0.05, 'hidden_...   \n",
       " 18          sgd  {'activation': 'tanh', 'alpha': 0.05, 'hidden_...   \n",
       " 19         adam  {'activation': 'tanh', 'alpha': 0.05, 'hidden_...   \n",
       " 20          sgd  {'activation': 'tanh', 'alpha': 0.05, 'hidden_...   \n",
       " 21         adam  {'activation': 'tanh', 'alpha': 0.05, 'hidden_...   \n",
       " 22          sgd  {'activation': 'tanh', 'alpha': 0.05, 'hidden_...   \n",
       " 23         adam  {'activation': 'tanh', 'alpha': 0.05, 'hidden_...   \n",
       " 24          sgd  {'activation': 'relu', 'alpha': 0.0001, 'hidde...   \n",
       " 25         adam  {'activation': 'relu', 'alpha': 0.0001, 'hidde...   \n",
       " 26          sgd  {'activation': 'relu', 'alpha': 0.0001, 'hidde...   \n",
       " 27         adam  {'activation': 'relu', 'alpha': 0.0001, 'hidde...   \n",
       " 28          sgd  {'activation': 'relu', 'alpha': 0.0001, 'hidde...   \n",
       " 29         adam  {'activation': 'relu', 'alpha': 0.0001, 'hidde...   \n",
       " 30          sgd  {'activation': 'relu', 'alpha': 0.0001, 'hidde...   \n",
       " 31         adam  {'activation': 'relu', 'alpha': 0.0001, 'hidde...   \n",
       " 32          sgd  {'activation': 'relu', 'alpha': 0.0001, 'hidde...   \n",
       " 33         adam  {'activation': 'relu', 'alpha': 0.0001, 'hidde...   \n",
       " 34          sgd  {'activation': 'relu', 'alpha': 0.0001, 'hidde...   \n",
       " 35         adam  {'activation': 'relu', 'alpha': 0.0001, 'hidde...   \n",
       " 36          sgd  {'activation': 'relu', 'alpha': 0.05, 'hidden_...   \n",
       " 37         adam  {'activation': 'relu', 'alpha': 0.05, 'hidden_...   \n",
       " 38          sgd  {'activation': 'relu', 'alpha': 0.05, 'hidden_...   \n",
       " 39         adam  {'activation': 'relu', 'alpha': 0.05, 'hidden_...   \n",
       " 40          sgd  {'activation': 'relu', 'alpha': 0.05, 'hidden_...   \n",
       " 41         adam  {'activation': 'relu', 'alpha': 0.05, 'hidden_...   \n",
       " 42          sgd  {'activation': 'relu', 'alpha': 0.05, 'hidden_...   \n",
       " 43         adam  {'activation': 'relu', 'alpha': 0.05, 'hidden_...   \n",
       " 44          sgd  {'activation': 'relu', 'alpha': 0.05, 'hidden_...   \n",
       " 45         adam  {'activation': 'relu', 'alpha': 0.05, 'hidden_...   \n",
       " 46          sgd  {'activation': 'relu', 'alpha': 0.05, 'hidden_...   \n",
       " 47         adam  {'activation': 'relu', 'alpha': 0.05, 'hidden_...   \n",
       " \n",
       "     split0_test_score  split1_test_score  split2_test_score  \\\n",
       " 0            0.816948           0.812902           0.814762   \n",
       " 1            0.744347           0.746965           0.748571   \n",
       " 2            0.816234           0.813854           0.816667   \n",
       " 3            0.744347           0.736967           0.740238   \n",
       " 4            0.814092           0.811473           0.818333   \n",
       " 5            0.745061           0.738158           0.736667   \n",
       " 6            0.816234           0.810045           0.814286   \n",
       " 7            0.755296           0.748393           0.747857   \n",
       " 8            0.814092           0.812902           0.817619   \n",
       " 9            0.801952           0.791716           0.789524   \n",
       " 10           0.815044           0.815044           0.819286   \n",
       " 11           0.791240           0.790764           0.792381   \n",
       " 12           0.815520           0.814092           0.817857   \n",
       " 13           0.781243           0.798143           0.780238   \n",
       " 14           0.814330           0.810759           0.817857   \n",
       " 15           0.799095           0.768865           0.796667   \n",
       " 16           0.813854           0.813378           0.812857   \n",
       " 17           0.763390           0.779338           0.770476   \n",
       " 18           0.815282           0.811235           0.816429   \n",
       " 19           0.762438           0.766484           0.774762   \n",
       " 20           0.813616           0.815758           0.818333   \n",
       " 21           0.813616           0.811235           0.814286   \n",
       " 22           0.815996           0.812664           0.818810   \n",
       " 23           0.818139           0.812426           0.816429   \n",
       " 24           0.813140           0.806475           0.809286   \n",
       " 25           0.770293           0.762676           0.770952   \n",
       " 26           0.811950           0.812188           0.811429   \n",
       " 27           0.783147           0.773625           0.759524   \n",
       " 28           0.806713           0.805761           0.798571   \n",
       " 29           0.752440           0.765294           0.751190   \n",
       " 30           0.800762           0.804808           0.816905   \n",
       " 31           0.761247           0.758153           0.760000   \n",
       " 32           0.814330           0.816710           0.816190   \n",
       " 33           0.808141           0.808379           0.800238   \n",
       " 34           0.813378           0.817186           0.815238   \n",
       " 35           0.806237           0.807903           0.802381   \n",
       " 36           0.813378           0.810759           0.815714   \n",
       " 37           0.783385           0.790764           0.792381   \n",
       " 38           0.812664           0.811711           0.814048   \n",
       " 39           0.772673           0.801000           0.786667   \n",
       " 40           0.813140           0.810759           0.816905   \n",
       " 41           0.766960           0.772673           0.783333   \n",
       " 42           0.809569           0.811950           0.802143   \n",
       " 43           0.765294           0.767436           0.780476   \n",
       " 44           0.813854           0.814806           0.817381   \n",
       " 45           0.813140           0.810521           0.813571   \n",
       " 46           0.814806           0.813854           0.810952   \n",
       " 47           0.810045           0.812188           0.814524   \n",
       " \n",
       "     split3_test_score  split4_test_score  mean_test_score  std_test_score  \\\n",
       " 0            0.815194           0.822339         0.816429        0.003223   \n",
       " 1            0.811384           0.805430         0.771339        0.030354   \n",
       " 2            0.811860           0.823529         0.816429        0.003950   \n",
       " 3            0.759943           0.771374         0.750574        0.013047   \n",
       " 4            0.801858           0.821624         0.813476        0.006773   \n",
       " 5            0.775423           0.771136         0.753289        0.016622   \n",
       " 6            0.813765           0.825673         0.816001        0.005235   \n",
       " 7            0.807811           0.764944         0.764860        0.022345   \n",
       " 8            0.812336           0.820433         0.815476        0.003084   \n",
       " 9            0.800429           0.816623         0.800049        0.009578   \n",
       " 10           0.813527           0.825196         0.817619        0.004247   \n",
       " 11           0.810669           0.813527         0.799716        0.010164   \n",
       " 12           0.811622           0.826387         0.817096        0.005067   \n",
       " 13           0.814241           0.823291         0.799431        0.017260   \n",
       " 14           0.812098           0.826864         0.816382        0.005766   \n",
       " 15           0.805668           0.819481         0.797955        0.016565   \n",
       " 16           0.815194           0.818528         0.814762        0.002037   \n",
       " 17           0.812574           0.824958         0.790147        0.024226   \n",
       " 18           0.815432           0.824958         0.816667        0.004511   \n",
       " 19           0.816385           0.823768         0.788767        0.025976   \n",
       " 20           0.812813           0.823529         0.816810        0.003867   \n",
       " 21           0.815670           0.824958         0.815953        0.004726   \n",
       " 22           0.812813           0.823291         0.816715        0.003995   \n",
       " 23           0.812098           0.821148         0.816048        0.003442   \n",
       " 24           0.815432           0.821624         0.813191        0.005225   \n",
       " 25           0.782567           0.810431         0.779384        0.016775   \n",
       " 26           0.812813           0.824244         0.814524        0.004880   \n",
       " 27           0.789712           0.802572         0.781716        0.014553   \n",
       " 28           0.811622           0.823291         0.809192        0.008190   \n",
       " 29           0.786616           0.796380         0.770384        0.018196   \n",
       " 30           0.813289           0.824244         0.812002        0.008410   \n",
       " 31           0.791855           0.787568         0.771765        0.014749   \n",
       " 32           0.811622           0.818052         0.815381        0.002227   \n",
       " 33           0.806621           0.815670         0.807810        0.004919   \n",
       " 34           0.811622           0.820910         0.815667        0.003212   \n",
       " 35           0.801619           0.817814         0.807191        0.005804   \n",
       " 36           0.816385           0.823529         0.815953        0.004272   \n",
       " 37           0.810193           0.822101         0.799765        0.014223   \n",
       " 38           0.814003           0.820910         0.814667        0.003242   \n",
       " 39           0.814480           0.823768         0.799717        0.018437   \n",
       " 40           0.809717           0.823053         0.814715        0.004846   \n",
       " 41           0.814003           0.821386         0.791671        0.022013   \n",
       " 42           0.812336           0.825673         0.812334        0.007610   \n",
       " 43           0.815432           0.822815         0.790291        0.024222   \n",
       " 44           0.813289           0.823291         0.816524        0.003663   \n",
       " 45           0.811384           0.821862         0.814096        0.004041   \n",
       " 46           0.812098           0.823768         0.815096        0.004538   \n",
       " 47           0.813289           0.820910         0.814191        0.003668   \n",
       " \n",
       "     rank_test_score  \n",
       " 0                 7  \n",
       " 1                44  \n",
       " 2                 8  \n",
       " 3                48  \n",
       " 4                24  \n",
       " 5                47  \n",
       " 6                11  \n",
       " 7                46  \n",
       " 8                15  \n",
       " 9                31  \n",
       " 10                1  \n",
       " 11               34  \n",
       " 12                2  \n",
       " 13               35  \n",
       " 14                9  \n",
       " 15               36  \n",
       " 16               18  \n",
       " 17               39  \n",
       " 18                5  \n",
       " 19               40  \n",
       " 20                3  \n",
       " 21               12  \n",
       " 22                4  \n",
       " 23               10  \n",
       " 24               25  \n",
       " 25               42  \n",
       " 26               21  \n",
       " 27               41  \n",
       " 28               28  \n",
       " 29               45  \n",
       " 30               27  \n",
       " 31               43  \n",
       " 32               16  \n",
       " 33               29  \n",
       " 34               14  \n",
       " 35               30  \n",
       " 36               13  \n",
       " 37               32  \n",
       " 38               20  \n",
       " 39               33  \n",
       " 40               19  \n",
       " 41               37  \n",
       " 42               26  \n",
       " 43               38  \n",
       " 44                6  \n",
       " 45               23  \n",
       " 46               17  \n",
       " 47               22  ,\n",
       " {'activation': 'tanh',\n",
       "  'alpha': 0.0001,\n",
       "  'hidden_layer_sizes': (100,),\n",
       "  'learning_rate': 'adaptive',\n",
       "  'solver': 'sgd'},\n",
       " 0.8176194588300634)"
      ]
     },
     "execution_count": 201,
     "metadata": {},
     "output_type": "execute_result"
    }
   ],
   "source": [
    "pd.DataFrame(tuning.cv_results_), tuning.best_params_, tuning.best_score_"
   ]
  },
  {
   "cell_type": "code",
   "execution_count": 215,
   "metadata": {},
   "outputs": [],
   "source": [
    "log_entry = pd.DataFrame([['MLP_tunning', tuning.best_score_*100]], columns=log_cols)\n",
    "log = log.append(log_entry)"
   ]
  },
  {
   "cell_type": "markdown",
   "metadata": {},
   "source": [
    "##### Conclusion\n",
    "Al final, la mejor combinación de parámetros fue: \n",
    "\n",
    "activation = 'tanh',\n",
    "alpha = 0.0001,\n",
    "hidden_layer_sizes = (100,),\n",
    "learning_rate = 'adaptive',\n",
    "solver = 'sgd'\n",
    "\n",
    "Sin embargo, esto dio un accuracy de 81.76%, los cuál está por debajo del 81.8% obtenido sin tunear. \n",
    "\n",
    "#### Ejecución con parámetros tuneados"
   ]
  },
  {
   "cell_type": "code",
   "execution_count": 202,
   "metadata": {},
   "outputs": [
    {
     "name": "stdout",
     "output_type": "stream",
     "text": [
      "Accuracy of the MLP (Neural Network) on test set: 0.824\n",
      "Accuracy: 82.4111%\n",
      "Kappa: 36.9289%\n",
      "              precision    recall  f1-score   support\n",
      "\n",
      "           0       0.84      0.96      0.89      7037\n",
      "           1       0.70      0.34      0.46      1963\n",
      "\n",
      "    accuracy                           0.82      9000\n",
      "   macro avg       0.77      0.65      0.68      9000\n",
      "weighted avg       0.81      0.82      0.80      9000\n",
      "\n"
     ]
    }
   ],
   "source": [
    "modelMLP = MLPClassifier(max_iter=1000, activation = 'tanh', alpha = 0.0001, hidden_layer_sizes = (100,), learning_rate = 'adaptive', solver = 'sgd')\n",
    "modelMLP.fit(X_train,y_train.values.ravel())\n",
    "predictors=list(X_train)\n",
    "\n",
    "print('Accuracy of the MLP (Neural Network) on test set: {:.3f}'.format(modelMLP.score(X_test, y_test.values.ravel())))\n",
    "\n",
    "pred=modelMLP.predict(X_test)\n",
    "acc = accuracy_score(y_test.values.ravel(), pred)\n",
    "print(\"Accuracy: {:.4%}\".format(acc))\n",
    "    \n",
    "kap = cohen_kappa_score(y_test.values.ravel(), pred)\n",
    "print(\"Kappa: {:.4%}\".format(kap))\n",
    "\n",
    "print(classification_report(y_test.values.ravel(), pred))"
   ]
  },
  {
   "cell_type": "code",
   "execution_count": 216,
   "metadata": {},
   "outputs": [],
   "source": [
    "log_entry = pd.DataFrame([['MLP', acc*100]], columns=log_cols)\n",
    "log = log.append(log_entry)"
   ]
  },
  {
   "cell_type": "markdown",
   "metadata": {},
   "source": [
    "### Conclusión Final\n",
    "Al ejecutar nuevamente el modelo MLP con los parámetros tuneados se obtiene un Acuracy de 82.4%, el más alto. Sin embargo, éste algoritmo tiene dificultad para generar la importancia de cada feature. Para un posible deployment, sin duda este modelo es el recomendado. Pero para efectos de explicación de la labor realizada se utilizará RandomForest tuneado. "
   ]
  },
  {
   "cell_type": "code",
   "execution_count": 223,
   "metadata": {},
   "outputs": [
    {
     "data": {
      "image/png": "[encoded data removed]",
      "text/plain": [
       "<Figure size 432x288 with 1 Axes>"
      ]
     },
     "metadata": {},
     "output_type": "display_data"
    },
    {
     "data": {
      "text/html": [
       "<div>\n",
       "<style scoped>\n",
       "    .dataframe tbody tr th:only-of-type {\n",
       "        vertical-align: middle;\n",
       "    }\n",
       "\n",
       "    .dataframe tbody tr th {\n",
       "        vertical-align: top;\n",
       "    }\n",
       "\n",
       "    .dataframe thead th {\n",
       "        text-align: right;\n",
       "    }\n",
       "</style>\n",
       "<table border=\"1\" class=\"dataframe\">\n",
       "  <thead>\n",
       "    <tr style=\"text-align: right;\">\n",
       "      <th></th>\n",
       "      <th>Classifier</th>\n",
       "      <th>Accuracy</th>\n",
       "    </tr>\n",
       "  </thead>\n",
       "  <tbody>\n",
       "    <tr>\n",
       "      <td>0</td>\n",
       "      <td>RFC</td>\n",
       "      <td>82.67</td>\n",
       "    </tr>\n",
       "    <tr>\n",
       "      <td>0</td>\n",
       "      <td>GBT_otb</td>\n",
       "      <td>82.54</td>\n",
       "    </tr>\n",
       "    <tr>\n",
       "      <td>0</td>\n",
       "      <td>MLP</td>\n",
       "      <td>82.41</td>\n",
       "    </tr>\n",
       "    <tr>\n",
       "      <td>0</td>\n",
       "      <td>RFC_tunning</td>\n",
       "      <td>81.90</td>\n",
       "    </tr>\n",
       "    <tr>\n",
       "      <td>0</td>\n",
       "      <td>GBT</td>\n",
       "      <td>81.89</td>\n",
       "    </tr>\n",
       "    <tr>\n",
       "      <td>0</td>\n",
       "      <td>MLP_otb</td>\n",
       "      <td>81.81</td>\n",
       "    </tr>\n",
       "    <tr>\n",
       "      <td>0</td>\n",
       "      <td>MLP_tunning</td>\n",
       "      <td>81.77</td>\n",
       "    </tr>\n",
       "    <tr>\n",
       "      <td>0</td>\n",
       "      <td>RFC_otb</td>\n",
       "      <td>80.82</td>\n",
       "    </tr>\n",
       "  </tbody>\n",
       "</table>\n",
       "</div>"
      ],
      "text/plain": [
       "    Classifier  Accuracy\n",
       "0          RFC     82.67\n",
       "0      GBT_otb     82.54\n",
       "0          MLP     82.41\n",
       "0  RFC_tunning     81.90\n",
       "0          GBT     81.89\n",
       "0      MLP_otb     81.81\n",
       "0  MLP_tunning     81.77\n",
       "0      RFC_otb     80.82"
      ]
     },
     "execution_count": 223,
     "metadata": {},
     "output_type": "execute_result"
    }
   ],
   "source": [
    "sns.set_color_codes(\"muted\")\n",
    "sns.barplot(x='Accuracy', y='Classifier', data=log.sort_values(by=['Accuracy'], ascending=False), color=\"b\")\n",
    "\n",
    "plt.xlabel('Accuracy %')\n",
    "plt.title('Classifier Accuracy')\n",
    "plt.show()\n",
    "\n",
    "log.sort_values(by=['Accuracy'], ascending=False)"
   ]
  }
 ],
 "metadata": {
  "kernelspec": {
   "display_name": "Python 3",
   "language": "python",
   "name": "python3"
  },
  "language_info": {
   "codemirror_mode": {
    "name": "ipython",
    "version": 3
   },
   "file_extension": ".py",
   "mimetype": "text/x-python",
   "name": "python",
   "nbconvert_exporter": "python",
   "pygments_lexer": "ipython3",
   "version": "3.7.4"
  }
 },
 "nbformat": 4,
 "nbformat_minor": 2
}
